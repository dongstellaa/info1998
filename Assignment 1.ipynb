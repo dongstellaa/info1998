{
 "cells": [
  {
   "cell_type": "markdown",
   "metadata": {
    "id": "2lfAJwQElgii"
   },
   "source": [
    "# Introduction: Fundamentals of Python and Numpy"
   ]
  },
  {
   "cell_type": "markdown",
   "metadata": {
    "id": "GgkekVrrlgik"
   },
   "source": [
    "Lecture 1"
   ]
  },
  {
   "cell_type": "markdown",
   "metadata": {
    "id": "J7urLolelgik"
   },
   "source": [
    "<b>NetID</b>: ssd74"
   ]
  },
  {
   "cell_type": "markdown",
   "metadata": {
    "id": "tFwvC79jlgik"
   },
   "source": [
    "___"
   ]
  },
  {
   "cell_type": "markdown",
   "metadata": {
    "id": "s_BfwBih7c2q"
   },
   "source": [
    "## The Basics"
   ]
  },
  {
   "cell_type": "code",
   "execution_count": 1,
   "metadata": {
    "id": "yh4XhqrQ7c2r"
   },
   "outputs": [],
   "source": [
    "# This is a comment"
   ]
  },
  {
   "cell_type": "code",
   "execution_count": 2,
   "metadata": {
    "id": "9zs24wEK7c2u"
   },
   "outputs": [],
   "source": [
    "# Creating Variables\n",
    "var1 = 'Hello World'"
   ]
  },
  {
   "cell_type": "code",
   "execution_count": 3,
   "metadata": {
    "id": "EhipKNzt7c2w"
   },
   "outputs": [
    {
     "data": {
      "text/plain": [
       "'Hello World'"
      ]
     },
     "execution_count": 3,
     "metadata": {},
     "output_type": "execute_result"
    }
   ],
   "source": [
    "# You can print in Jupyter Notebooks without a print statement.\n",
    "var1"
   ]
  },
  {
   "cell_type": "code",
   "execution_count": 4,
   "metadata": {
    "id": "nzBMRxN17c21"
   },
   "outputs": [
    {
     "name": "stdout",
     "output_type": "stream",
     "text": [
      "Hello World\n"
     ]
    }
   ],
   "source": [
    "# Or with one if it is not the last line\n",
    "print(var1)"
   ]
  },
  {
   "cell_type": "code",
   "execution_count": 5,
   "metadata": {
    "id": "iAfWDcIm7c24"
   },
   "outputs": [],
   "source": [
    "# Lets talk about lists\n",
    "list1 = [0,1,2,3,4,5,6,7,8,9]"
   ]
  },
  {
   "cell_type": "code",
   "execution_count": 6,
   "metadata": {
    "id": "op0osqnC7c26"
   },
   "outputs": [
    {
     "name": "stdout",
     "output_type": "stream",
     "text": [
      "fifth index 5\n",
      "4 Through 7 [4, 5, 6, 7]\n",
      "Before [0, 1, 2, 3, 4, 5, 6, 7, 8, 9]\n",
      "After [0, 1, 2, 3, 4, 5, 6, 7, 8, 9, 10]\n"
     ]
    }
   ],
   "source": [
    "print('fifth index', list1[5])\n",
    "\n",
    "print(\"4 Through 7\", list1[4:8])\n",
    "\n",
    "print(\"Before\", list1)\n",
    "\n",
    "list1.append(10)\n",
    "\n",
    "print(\"After\", list1)"
   ]
  },
  {
   "cell_type": "code",
   "execution_count": 7,
   "metadata": {
    "id": "LJQ8ByYq7c2_"
   },
   "outputs": [
    {
     "name": "stdout",
     "output_type": "stream",
     "text": [
      "1 is odd\n",
      "2 is even\n",
      "3 is odd\n",
      "4 is even\n",
      "5 is odd\n",
      "6 is even\n",
      "7 is odd\n",
      "8 is even\n",
      "9 is odd\n"
     ]
    }
   ],
   "source": [
    "# for loops and if statments are made very easy in python, just follow this example\n",
    "newArray = [1,2,3,4,5,6,7,8,9]\n",
    "for x in newArray:\n",
    "    if x%2 == 0:\n",
    "        print(x,'is even')\n",
    "    else:\n",
    "        print(x,'is odd')"
   ]
  },
  {
   "cell_type": "code",
   "execution_count": 8,
   "metadata": {
    "id": "QsEPKhei7c3C"
   },
   "outputs": [
    {
     "name": "stdout",
     "output_type": "stream",
     "text": [
      "[0, 2, 4, 6, 8, 10, 12, 14, 16, 18, 20, 22, 24, 26, 28, 30, 32, 34, 36, 38, 40, 42, 44, 46, 48, 50, 52, 54, 56, 58, 60, 62, 64, 66, 68, 70, 72, 74, 76, 78, 80, 82, 84, 86, 88, 90, 92, 94, 96, 98]\n"
     ]
    }
   ],
   "source": [
    "# list comprehention is a little more difficult and isn't necessary, but if you know how to do it, it saves time\n",
    "allEven = [x for x in range(0,100) if x%2==0]\n",
    "print(allEven)"
   ]
  },
  {
   "cell_type": "markdown",
   "metadata": {
    "id": "llKrU12Olgio"
   },
   "source": [
    "____"
   ]
  },
  {
   "cell_type": "markdown",
   "metadata": {
    "id": "C-2rEHip7c3G"
   },
   "source": [
    "## Problem 1: Put all the multiples of 15 from 1 to 1000 in a list (Save it as a variable called 'multiples_15'): "
   ]
  },
  {
   "cell_type": "code",
   "execution_count": 90,
   "metadata": {
    "id": "HSzhfhBr7c3G"
   },
   "outputs": [
    {
     "name": "stdout",
     "output_type": "stream",
     "text": [
      "[0, 15, 30, 45, 60, 75, 90, 105, 120, 135, 150, 165, 180, 195, 210, 225, 240, 255, 270, 285, 300, 315, 330, 345, 360, 375, 390, 405, 420, 435, 450, 465, 480, 495, 510, 525, 540, 555, 570, 585, 600, 615, 630, 645, 660, 675, 690, 705, 720, 735, 750, 765, 780, 795, 810, 825, 840, 855, 870, 885, 900, 915, 930, 945, 960, 975, 990]\n"
     ]
    }
   ],
   "source": [
    "# The above examples should be helpful in solving this question! Ask a TA for help if you're stuck.\n",
    "\n",
    "multiples_15 = [x for x in range(0,1000) if x%15==0]\n",
    "print(multiples_15)"
   ]
  },
  {
   "cell_type": "markdown",
   "metadata": {
    "id": "p36J-Ml1lgio"
   },
   "source": [
    "___"
   ]
  },
  {
   "cell_type": "markdown",
   "metadata": {
    "id": "pwQdsT6M7c3J"
   },
   "source": [
    "## Introduction to Numpy"
   ]
  },
  {
   "cell_type": "code",
   "execution_count": 10,
   "metadata": {
    "id": "AcRybyqE7c3K"
   },
   "outputs": [],
   "source": [
    "# Importing Numpy\n",
    "import numpy as np"
   ]
  },
  {
   "cell_type": "code",
   "execution_count": 11,
   "metadata": {
    "id": "MUawpGDY7c3N"
   },
   "outputs": [],
   "source": [
    "arr1 = np.array([1,2,3]) #seperate with commas"
   ]
  },
  {
   "cell_type": "code",
   "execution_count": 12,
   "metadata": {
    "id": "BnZWpFG47c3O"
   },
   "outputs": [
    {
     "name": "stdout",
     "output_type": "stream",
     "text": [
      "[1 2 3]\n"
     ]
    }
   ],
   "source": [
    "print(arr1)"
   ]
  },
  {
   "cell_type": "code",
   "execution_count": 13,
   "metadata": {
    "id": "ZjpFUcWz7c3R"
   },
   "outputs": [],
   "source": [
    "arr2 = np.array([[1,2,3],[4,5,6]]) #2d array"
   ]
  },
  {
   "cell_type": "code",
   "execution_count": 14,
   "metadata": {
    "id": "TdS3f6FI7c3U"
   },
   "outputs": [
    {
     "name": "stdout",
     "output_type": "stream",
     "text": [
      "[[1 2 3]\n",
      " [4 5 6]]\n"
     ]
    }
   ],
   "source": [
    "print(arr2)"
   ]
  },
  {
   "cell_type": "code",
   "execution_count": 15,
   "metadata": {
    "id": "rjb1nCSi7c3X"
   },
   "outputs": [
    {
     "data": {
      "text/plain": [
       "(2, 3)"
      ]
     },
     "execution_count": 15,
     "metadata": {},
     "output_type": "execute_result"
    }
   ],
   "source": [
    "arr2.shape #get the shape of the array"
   ]
  },
  {
   "cell_type": "markdown",
   "metadata": {
    "id": "chF9s0Mnlgip"
   },
   "source": [
    "### Different Ways to Create numpy arrays"
   ]
  },
  {
   "cell_type": "markdown",
   "metadata": {
    "id": "t4K-tWOy7c3a"
   },
   "source": [
    "In the code below, we create a number of different sized arrays with different shapes and values.  Numpy has some built in methods (listed below) which help us quickly and easily create multidimensional arrays with pre-filled values.\n",
    "\n",
    "**np.zeros((dimensions))** creates an array of zeros with the specified dimensions\n",
    "\n",
    "**np.full((dimensions), value)** creates an array with the specified dimensions where every element is the specified value\n",
    "\n",
    "**np.random.random(dimensions)** generates an array of random floating-point values between 0 and 1"
   ]
  },
  {
   "cell_type": "code",
   "execution_count": 16,
   "metadata": {
    "id": "x4iUep9d7c3b"
   },
   "outputs": [
    {
     "name": "stdout",
     "output_type": "stream",
     "text": [
      "[[0. 0. 0. 0.]\n",
      " [0. 0. 0. 0.]\n",
      " [0. 0. 0. 0.]]\n"
     ]
    }
   ],
   "source": [
    "# create a 3x4 array of zeros\n",
    "ex1 = np.zeros((3, 4))      \n",
    "print(ex1)    "
   ]
  },
  {
   "cell_type": "code",
   "execution_count": 17,
   "metadata": {
    "id": "SK1JosZT7c3f"
   },
   "outputs": [
    {
     "name": "stdout",
     "output_type": "stream",
     "text": [
      "[[9. 9. 9.]\n",
      " [9. 9. 9.]]\n"
     ]
    }
   ],
   "source": [
    "# create a 2x3 array filled with 9.0\n",
    "ex2 = np.full((2,3), 9.0)  \n",
    "print(ex2)   "
   ]
  },
  {
   "cell_type": "code",
   "execution_count": 18,
   "metadata": {
    "id": "j-fccu7T7c3j"
   },
   "outputs": [
    {
     "name": "stdout",
     "output_type": "stream",
     "text": [
      "[[0.74903634 0.899796   0.12847657]\n",
      " [0.7726094  0.01023689 0.92729596]]\n"
     ]
    }
   ],
   "source": [
    "# create a 2x3 array of random floating-point numbers between 0 and 1\n",
    "ex3 = np.random.random((2,3))\n",
    "print(ex3)    "
   ]
  },
  {
   "cell_type": "code",
   "execution_count": 19,
   "metadata": {
    "id": "K0f0IJAQ7c3l"
   },
   "outputs": [
    {
     "data": {
      "text/plain": [
       "array([0.74903634, 0.899796  , 0.12847657])"
      ]
     },
     "execution_count": 19,
     "metadata": {},
     "output_type": "execute_result"
    }
   ],
   "source": [
    "ex3[0] #this first index if the first row"
   ]
  },
  {
   "cell_type": "code",
   "execution_count": 20,
   "metadata": {
    "id": "4rQuFkww7c3o"
   },
   "outputs": [
    {
     "name": "stdout",
     "output_type": "stream",
     "text": [
      "[[5 1 8 9 3 1 5 1 7 9]\n",
      " [9 2 5 1 8 1 6 3 7 5]\n",
      " [6 9 6 2 3 3 4 9 9 3]\n",
      " [8 5 5 2 8 2 2 8 6 1]\n",
      " [1 1 2 4 4 3 3 6 3 6]]\n"
     ]
    }
   ],
   "source": [
    "ex4 =  np.random.randint(1,10,(5,10)) #(low,high-exclusive,shape)\n",
    "print(ex4)"
   ]
  },
  {
   "cell_type": "code",
   "execution_count": 21,
   "metadata": {
    "id": "gAaEfSH27c3p"
   },
   "outputs": [
    {
     "data": {
      "text/plain": [
       "array([6, 9, 6, 2, 3, 3, 4, 9, 9, 3])"
      ]
     },
     "execution_count": 21,
     "metadata": {},
     "output_type": "execute_result"
    }
   ],
   "source": [
    "ex4[2]"
   ]
  },
  {
   "cell_type": "code",
   "execution_count": 22,
   "metadata": {
    "id": "kKEJAJCJ7c3s"
   },
   "outputs": [
    {
     "data": {
      "text/plain": [
       "5.0"
      ]
     },
     "execution_count": 22,
     "metadata": {},
     "output_type": "execute_result"
    }
   ],
   "source": [
    "np.median(ex4[1])"
   ]
  },
  {
   "cell_type": "markdown",
   "metadata": {
    "id": "De9Ks7hilgir"
   },
   "source": [
    "___"
   ]
  },
  {
   "cell_type": "markdown",
   "metadata": {
    "collapsed": true,
    "id": "taUqGCrg7c3u"
   },
   "source": [
    "### Mathematical Operations "
   ]
  },
  {
   "cell_type": "code",
   "execution_count": 23,
   "metadata": {
    "id": "kl5JbxBI7c3u"
   },
   "outputs": [],
   "source": [
    "arr1 = np.array([2,4,6,8,10])"
   ]
  },
  {
   "cell_type": "code",
   "execution_count": 24,
   "metadata": {
    "id": "Wwbl1BE27c3w"
   },
   "outputs": [
    {
     "name": "stdout",
     "output_type": "stream",
     "text": [
      "[ 2  4  6  8 10]\n"
     ]
    }
   ],
   "source": [
    "print(arr1)"
   ]
  },
  {
   "cell_type": "code",
   "execution_count": 25,
   "metadata": {
    "id": "HZB3AAAm7c3y"
   },
   "outputs": [
    {
     "name": "stdout",
     "output_type": "stream",
     "text": [
      "[1.41421356 2.         2.44948974 2.82842712 3.16227766]\n"
     ]
    }
   ],
   "source": [
    "print(np.sqrt(arr1))"
   ]
  },
  {
   "cell_type": "code",
   "execution_count": 26,
   "metadata": {
    "id": "keRweGyw7c31"
   },
   "outputs": [
    {
     "data": {
      "text/plain": [
       "10"
      ]
     },
     "execution_count": 26,
     "metadata": {},
     "output_type": "execute_result"
    }
   ],
   "source": [
    "np.max(arr1)"
   ]
  },
  {
   "cell_type": "code",
   "execution_count": 27,
   "metadata": {
    "id": "CAcYvMU77c33"
   },
   "outputs": [
    {
     "data": {
      "text/plain": [
       "2"
      ]
     },
     "execution_count": 27,
     "metadata": {},
     "output_type": "execute_result"
    }
   ],
   "source": [
    "np.min(arr1)"
   ]
  },
  {
   "cell_type": "code",
   "execution_count": 28,
   "metadata": {
    "id": "rpz1NrvM7c36"
   },
   "outputs": [
    {
     "data": {
      "text/plain": [
       "6.0"
      ]
     },
     "execution_count": 28,
     "metadata": {},
     "output_type": "execute_result"
    }
   ],
   "source": [
    "np.median(arr1)"
   ]
  },
  {
   "cell_type": "code",
   "execution_count": 29,
   "metadata": {
    "id": "Trj3RFSh7c38"
   },
   "outputs": [
    {
     "data": {
      "text/plain": [
       "2.8284271247461903"
      ]
     },
     "execution_count": 29,
     "metadata": {},
     "output_type": "execute_result"
    }
   ],
   "source": [
    "np.std(arr1)"
   ]
  },
  {
   "cell_type": "code",
   "execution_count": 30,
   "metadata": {
    "id": "aAfcO_qy7c3-"
   },
   "outputs": [
    {
     "data": {
      "text/plain": [
       "array([ 3,  5,  7,  9, 11])"
      ]
     },
     "execution_count": 30,
     "metadata": {},
     "output_type": "execute_result"
    }
   ],
   "source": [
    "arr1+1"
   ]
  },
  {
   "cell_type": "code",
   "execution_count": 31,
   "metadata": {
    "id": "odk8-b3C7c4B"
   },
   "outputs": [
    {
     "data": {
      "text/plain": [
       "array([ 4,  8, 12, 16, 20])"
      ]
     },
     "execution_count": 31,
     "metadata": {},
     "output_type": "execute_result"
    }
   ],
   "source": [
    "arr1*2"
   ]
  },
  {
   "cell_type": "code",
   "execution_count": 32,
   "metadata": {
    "id": "cM2Vrcbg7c4D"
   },
   "outputs": [
    {
     "name": "stdout",
     "output_type": "stream",
     "text": [
      "[ 6  8 10]\n"
     ]
    }
   ],
   "source": [
    "print(arr1[2:])"
   ]
  },
  {
   "cell_type": "code",
   "execution_count": 33,
   "metadata": {
    "id": "IhSYM9-J7c4G"
   },
   "outputs": [
    {
     "data": {
      "text/plain": [
       "array([1, 2])"
      ]
     },
     "execution_count": 33,
     "metadata": {},
     "output_type": "execute_result"
    }
   ],
   "source": [
    "np.unique(np.array([1,1,1,1,2]))"
   ]
  },
  {
   "cell_type": "code",
   "execution_count": 34,
   "metadata": {
    "id": "rvehoU3w7c4I"
   },
   "outputs": [],
   "source": [
    "arr2 = np.array([3,6,9,12,15])"
   ]
  },
  {
   "cell_type": "code",
   "execution_count": 35,
   "metadata": {
    "id": "c5JNwVNx7c4K"
   },
   "outputs": [
    {
     "data": {
      "text/plain": [
       "array([ 5, 10, 15, 20, 25])"
      ]
     },
     "execution_count": 35,
     "metadata": {},
     "output_type": "execute_result"
    }
   ],
   "source": [
    "np.add(arr1,arr2)"
   ]
  },
  {
   "cell_type": "code",
   "execution_count": 36,
   "metadata": {
    "id": "O8Jt17kv7c4O"
   },
   "outputs": [
    {
     "data": {
      "text/plain": [
       "array([ 5, 10, 15, 20, 25])"
      ]
     },
     "execution_count": 36,
     "metadata": {},
     "output_type": "execute_result"
    }
   ],
   "source": [
    "arr1+arr2"
   ]
  },
  {
   "cell_type": "code",
   "execution_count": 37,
   "metadata": {
    "id": "WEuiNgxM7c4Q"
   },
   "outputs": [
    {
     "data": {
      "text/plain": [
       "330"
      ]
     },
     "execution_count": 37,
     "metadata": {},
     "output_type": "execute_result"
    }
   ],
   "source": [
    "arr1.dot(arr2)"
   ]
  },
  {
   "cell_type": "code",
   "execution_count": 38,
   "metadata": {
    "id": "ml2fA43_7c4T"
   },
   "outputs": [
    {
     "data": {
      "text/plain": [
       "30"
      ]
     },
     "execution_count": 38,
     "metadata": {},
     "output_type": "execute_result"
    }
   ],
   "source": [
    "np.sum(arr1)"
   ]
  },
  {
   "cell_type": "markdown",
   "metadata": {
    "id": "HVx1wXjxlgit"
   },
   "source": [
    "___"
   ]
  },
  {
   "cell_type": "markdown",
   "metadata": {
    "id": "__O0bBXc7c4V"
   },
   "source": [
    "## Problem 2: Create an random integer array with a min of 1, max of 9 (inclusive), and shape of (20,10) so 20 rows and 10 columns. Then for each row, sum the random integers and add all the sums to a list called 'random_sums'. "
   ]
  },
  {
   "cell_type": "code",
   "execution_count": 87,
   "metadata": {
    "id": "qtDoNKi87c4W",
    "scrolled": false
   },
   "outputs": [
    {
     "name": "stdout",
     "output_type": "stream",
     "text": [
      "[[7 4 9 4 4 1 4 9 1 8]\n",
      " [9 7 8 5 9 5 9 9 6 7]\n",
      " [3 7 2 7 6 6 6 5 7 9]\n",
      " [5 4 9 9 9 1 7 3 1 6]\n",
      " [6 5 3 2 3 1 4 7 6 9]\n",
      " [2 9 6 5 4 9 7 7 6 1]\n",
      " [9 6 5 3 5 6 9 5 6 8]\n",
      " [6 4 6 6 4 5 7 7 1 1]\n",
      " [1 5 8 6 7 4 1 1 1 5]\n",
      " [7 8 7 3 1 6 9 8 1 5]\n",
      " [1 4 6 9 5 7 7 6 6 4]\n",
      " [5 2 1 1 2 8 9 5 1 8]\n",
      " [4 4 7 8 3 3 3 4 1 4]\n",
      " [6 2 3 4 6 3 5 2 5 9]\n",
      " [2 8 2 8 9 3 5 8 4 5]\n",
      " [6 3 6 1 7 2 4 6 6 8]\n",
      " [7 1 7 7 3 3 9 1 7 9]\n",
      " [8 6 2 8 3 1 8 8 8 8]\n",
      " [4 1 7 2 5 8 5 7 2 4]\n",
      " [6 3 7 6 5 1 1 6 6 7]]\n",
      "[51, 74, 58, 54, 46, 56, 62, 47, 39, 55, 55, 42, 41, 45, 54, 49, 54, 60, 45, 48]\n"
     ]
    }
   ],
   "source": [
    "randArray = np.random.randint(1, 10, (20,10))# YOUR CODE HERE\n",
    "random_sums = []\n",
    "for x in range(0,20):\n",
    "    random_sums.append(np.sum(randArray[x]))\n",
    "print(randArray)\n",
    "print(random_sums)"
   ]
  },
  {
   "cell_type": "markdown",
   "metadata": {
    "id": "LD_W381_lgiu"
   },
   "source": [
    "___"
   ]
  },
  {
   "cell_type": "markdown",
   "metadata": {
    "id": "-qruPhXv7c4Z"
   },
   "source": [
    "## Sets"
   ]
  },
  {
   "cell_type": "code",
   "execution_count": 78,
   "metadata": {
    "id": "H4meLxQG7c4Z"
   },
   "outputs": [
    {
     "name": "stdout",
     "output_type": "stream",
     "text": [
      "array 1: [ 3  4  8  9 13 14 18 19 23 24 28 29 33 34 38 39 43 44 48 49]\n",
      "array 2: [ 4  5  6 11 12 13 18 19 20 25 26 27 32 33 34 39 40 41 46 47 48]\n"
     ]
    }
   ],
   "source": [
    "arr1 = np.array([x for x in range(0,50) if x%5 > 2])\n",
    "arr2 = np.array([x for x in range(0,50) if x%7 > 3])\n",
    "\n",
    "print('array 1:', arr1)\n",
    "print('array 2:', arr2)"
   ]
  },
  {
   "cell_type": "code",
   "execution_count": 79,
   "metadata": {
    "id": "0QZWwfqJ7c4d",
    "scrolled": true
   },
   "outputs": [
    {
     "name": "stdout",
     "output_type": "stream",
     "text": [
      "union: [ 3  4  5  6  8  9 11 12 13 14 18 19 20 23 24 25 26 27 28 29 32 33 34 38\n",
      " 39 40 41 43 44 46 47 48 49]\n"
     ]
    }
   ],
   "source": [
    "union = np.union1d(arr1, arr2) #in either arr1 or arr2\n",
    "print('union:', union)"
   ]
  },
  {
   "cell_type": "code",
   "execution_count": 80,
   "metadata": {
    "id": "mfc69YIA7c4f"
   },
   "outputs": [
    {
     "name": "stdout",
     "output_type": "stream",
     "text": [
      "intersect: [ 4 13 18 19 33 34 39 48]\n"
     ]
    }
   ],
   "source": [
    "intersect = np.intersect1d(arr1, arr2) #in both arr1 and arr2\n",
    "print('intersect:', intersect)"
   ]
  },
  {
   "cell_type": "markdown",
   "metadata": {
    "id": "t8_ZdDNw7c4h"
   },
   "source": [
    "## Reshaping"
   ]
  },
  {
   "cell_type": "code",
   "execution_count": 81,
   "metadata": {
    "id": "pR0ZuRo87c4h"
   },
   "outputs": [
    {
     "name": "stdout",
     "output_type": "stream",
     "text": [
      "[[ 1  2  3  4]\n",
      " [ 5  6  7  8]\n",
      " [ 9 10 11 12]]\n"
     ]
    }
   ],
   "source": [
    "arr1 = np.array([[1,2,3,4],[5,6,7,8],[9,10,11,12]])\n",
    "print(arr1)"
   ]
  },
  {
   "cell_type": "code",
   "execution_count": 82,
   "metadata": {
    "id": "qKrSoaF97c4k"
   },
   "outputs": [
    {
     "data": {
      "text/plain": [
       "array([[ 1,  2,  3,  4,  5,  6],\n",
       "       [ 7,  8,  9, 10, 11, 12]])"
      ]
     },
     "execution_count": 82,
     "metadata": {},
     "output_type": "execute_result"
    }
   ],
   "source": [
    "arr1.reshape(2, -1) #first number is the number of rows, -1 automatically selects the number that works"
   ]
  },
  {
   "cell_type": "code",
   "execution_count": 83,
   "metadata": {
    "id": "4tRIRgdi7c4l"
   },
   "outputs": [
    {
     "data": {
      "text/plain": [
       "array([[ 1,  5,  9],\n",
       "       [ 2,  6, 10],\n",
       "       [ 3,  7, 11],\n",
       "       [ 4,  8, 12]])"
      ]
     },
     "execution_count": 83,
     "metadata": {},
     "output_type": "execute_result"
    }
   ],
   "source": [
    "np.transpose(arr1) #switches the axis"
   ]
  },
  {
   "cell_type": "markdown",
   "metadata": {
    "id": "J7Hh6qPzlgiv"
   },
   "source": [
    "____"
   ]
  },
  {
   "cell_type": "markdown",
   "metadata": {
    "id": "mz69azE_7c4o"
   },
   "source": [
    "## Problem 3: Determine the numbers that can be found in  'multiples_15' and and also 'random_sums' (the number appears in both arrays) and put them in an array called 'both'"
   ]
  },
  {
   "cell_type": "code",
   "execution_count": 89,
   "metadata": {
    "id": "rMgDKUaq7c4o"
   },
   "outputs": [
    {
     "name": "stdout",
     "output_type": "stream",
     "text": [
      "[45 60]\n"
     ]
    }
   ],
   "source": [
    "# YOUR CODE HERE - The most common solution would have just 1 line!\n",
    "both = np.intersect1d(multiples_15, random_sums)\n",
    "print(both)"
   ]
  },
  {
   "cell_type": "markdown",
   "metadata": {
    "id": "ktQJR-FFlgiv"
   },
   "source": [
    "____"
   ]
  },
  {
   "cell_type": "markdown",
   "metadata": {
    "id": "X_51GD-Dlgiv"
   },
   "source": [
    "<b>Final Note</b>: We know that you might not have any experience in Python or Computer Science/Math in general, and that's completely fine. Don't be intimidated - this is a part of the process! Please come to office hours, and one of the instructors would give you a crash course. Additionally, we have a recording of a Python workshop on our website so that you can use to bridge the gap, if any. If you still feel underprepared, please come talk to one of the instructors - we will work it out."
   ]
  }
 ],
 "metadata": {
  "colab": {
   "collapsed_sections": [
    "chF9s0Mnlgip",
    "taUqGCrg7c3u"
   ],
   "name": "Lecture 1 - Introduction_Release.ipynb",
   "provenance": []
  },
  "kernelspec": {
   "display_name": "Python 3",
   "language": "python",
   "name": "python3"
  },
  "language_info": {
   "codemirror_mode": {
    "name": "ipython",
    "version": 3
   },
   "file_extension": ".py",
   "mimetype": "text/x-python",
   "name": "python",
   "nbconvert_exporter": "python",
   "pygments_lexer": "ipython3",
   "version": "3.8.8"
  },
  "notebookId": "^EG=G=bpDp\\gp"
 },
 "nbformat": 4,
 "nbformat_minor": 1
}
