{
 "cells": [
  {
   "cell_type": "markdown",
   "metadata": {
    "id": "T6JQplYgF-jg"
   },
   "source": [
    "# Unsupervised Learning"
   ]
  },
  {
   "cell_type": "markdown",
   "metadata": {
    "id": "WTXozdDiRFVI"
   },
   "source": [
    "NETID: ssd74"
   ]
  },
  {
   "cell_type": "markdown",
   "metadata": {
    "id": "RbHmglpHF-jh"
   },
   "source": [
    "Previously, we have been focusing on supervised learning. Recall that we covered two types of supervised learning models: regression for predicting continuous variables and classification for predicting categorical ones."
   ]
  },
  {
   "cell_type": "markdown",
   "metadata": {
    "id": "KMPlYSrMF-jh"
   },
   "source": [
    "For instance, for classification problems like a spam detector, you would feed the model training data with some data labeled as 'spam', and others as 'ham' (not spam). On the other hand, for regression problems like predicting housing prices, you would instead pass in some housing data including the associated house price. In both cases, the training data you feed into your model includes the desired solutions (i.e. spam/ham, house price). "
   ]
  },
  {
   "cell_type": "markdown",
   "metadata": {
    "id": "m23u6cjpF-ji"
   },
   "source": [
    "However, what if we are interested in something that isn't included as a target variable in the dataset? Then we need to rely on __unsupervised learning__ instead to gain insight into characteristics of the data that aren't explicity identified. "
   ]
  },
  {
   "cell_type": "markdown",
   "metadata": {
    "id": "IsPtfm3VF-ji"
   },
   "source": [
    "__Note that there are many different types of unsupervised learning algorithms, each with different use cases. For example:__\n",
    " - Clustering\n",
    "     - Hierarchical Cluster Analysis (HCA)\n",
    "     - k-Means\n",
    "     - Gaussian Mixture Models (GMMs)\n",
    "     - Expected Maximization\n",
    " - Visualization and Dimensionality Reduction\n",
    "     - Principal Component Analysis (PCA)\n",
    "     - Kernel PCA\n",
    "     - Locally Linear Embedding (LLE)\n",
    "     - t-Distibuted Stochastic Linear Embedding (t-SNE)\n",
    " - Association Rule Learning\n",
    "     - Apriori\n",
    "     - Eclat\n",
    "\n",
    "However, in this class, we shall only cover three of the clustering algorithms listed above: Hierarchical Clustering, k-Means Clustering, and Gaussian Mixture Models. Let's get started."
   ]
  },
  {
   "cell_type": "markdown",
   "metadata": {
    "id": "vqcAUKVXF-jj"
   },
   "source": [
    "_(And as usual, if you are curious about anything data science that we mentioned, or that you've heard of outside of class, feel free to come talk to us about it after class or during office hours!)_"
   ]
  },
  {
   "cell_type": "markdown",
   "metadata": {
    "id": "PWOkHkZQF-jj"
   },
   "source": [
    "## Hierarchical Clustering\n",
    "\n",
    "Hierarchical clustering groups observations into multiple levels of sets; the top-level set includes all of the data, and the bottom-level sets contain individual observations. The levels in between contain sets of observations with similar features. Let's take a look at a dataset. "
   ]
  },
  {
   "cell_type": "code",
   "execution_count": 1,
   "metadata": {
    "id": "quqSfT13F-jk",
    "outputId": "b5ad761c-6363-406c-ffc6-2f10a98e6526",
    "scrolled": true
   },
   "outputs": [
    {
     "data": {
      "text/html": [
       "<div>\n",
       "<style scoped>\n",
       "    .dataframe tbody tr th:only-of-type {\n",
       "        vertical-align: middle;\n",
       "    }\n",
       "\n",
       "    .dataframe tbody tr th {\n",
       "        vertical-align: top;\n",
       "    }\n",
       "\n",
       "    .dataframe thead th {\n",
       "        text-align: right;\n",
       "    }\n",
       "</style>\n",
       "<table border=\"1\" class=\"dataframe\">\n",
       "  <thead>\n",
       "    <tr style=\"text-align: right;\">\n",
       "      <th></th>\n",
       "      <th>sepal length (cm)</th>\n",
       "      <th>sepal width (cm)</th>\n",
       "      <th>petal length (cm)</th>\n",
       "      <th>petal width (cm)</th>\n",
       "    </tr>\n",
       "  </thead>\n",
       "  <tbody>\n",
       "    <tr>\n",
       "      <th>0</th>\n",
       "      <td>5.1</td>\n",
       "      <td>3.5</td>\n",
       "      <td>1.4</td>\n",
       "      <td>0.2</td>\n",
       "    </tr>\n",
       "    <tr>\n",
       "      <th>1</th>\n",
       "      <td>4.9</td>\n",
       "      <td>3.0</td>\n",
       "      <td>1.4</td>\n",
       "      <td>0.2</td>\n",
       "    </tr>\n",
       "    <tr>\n",
       "      <th>2</th>\n",
       "      <td>4.7</td>\n",
       "      <td>3.2</td>\n",
       "      <td>1.3</td>\n",
       "      <td>0.2</td>\n",
       "    </tr>\n",
       "    <tr>\n",
       "      <th>3</th>\n",
       "      <td>4.6</td>\n",
       "      <td>3.1</td>\n",
       "      <td>1.5</td>\n",
       "      <td>0.2</td>\n",
       "    </tr>\n",
       "    <tr>\n",
       "      <th>4</th>\n",
       "      <td>5.0</td>\n",
       "      <td>3.6</td>\n",
       "      <td>1.4</td>\n",
       "      <td>0.2</td>\n",
       "    </tr>\n",
       "  </tbody>\n",
       "</table>\n",
       "</div>"
      ],
      "text/plain": [
       "   sepal length (cm)  sepal width (cm)  petal length (cm)  petal width (cm)\n",
       "0                5.1               3.5                1.4               0.2\n",
       "1                4.9               3.0                1.4               0.2\n",
       "2                4.7               3.2                1.3               0.2\n",
       "3                4.6               3.1                1.5               0.2\n",
       "4                5.0               3.6                1.4               0.2"
      ]
     },
     "execution_count": 1,
     "metadata": {},
     "output_type": "execute_result"
    }
   ],
   "source": [
    "import pandas as pd\n",
    "import numpy as np\n",
    "from sklearn import datasets\n",
    "\n",
    "iris = datasets.load_iris()\n",
    "iris = pd.DataFrame(iris.data, columns=iris.feature_names)\n",
    "iris.head()"
   ]
  },
  {
   "cell_type": "markdown",
   "metadata": {
    "id": "ElGmNQAUF-jn"
   },
   "source": [
    "The iris dataset contains observations on three iris species. Features include sepal length, sepal width, petal length, and petal width. Notice how the species is not identified in the version of the dataset that we use above. Let's see if we can gain this information through hierarchical clustering. "
   ]
  },
  {
   "cell_type": "markdown",
   "metadata": {
    "id": "ollnqC6hF-jo"
   },
   "source": [
    "### Problem 1\n",
    "\n",
    "Perform hierarchical clustering on the iris dataset and plot the resulting clusters (as a dendrogram). How many clusters do you see? How does this compare to the number of clusters you expect to see?\n",
    "\n",
    "I had expected to see 3 different clusters because there are 3 different iris species. There appears to be 3 cluster but one of them is very small and almost imperceptible."
   ]
  },
  {
   "cell_type": "code",
   "execution_count": 2,
   "metadata": {
    "id": "Q6io2nsOF-jo"
   },
   "outputs": [],
   "source": [
    "from sklearn.preprocessing import StandardScaler\n",
    "from scipy.cluster.hierarchy import dendrogram, linkage\n",
    "from matplotlib import pyplot as plt\n",
    "\n",
    "iris = StandardScaler().fit_transform(iris)"
   ]
  },
  {
   "cell_type": "code",
   "execution_count": 3,
   "metadata": {
    "id": "K7MtluIRzC_C"
   },
   "outputs": [
    {
     "data": {
      "image/png": "[encoded data removed]",
      "text/plain": [
       "<Figure size 432x288 with 1 Axes>"
      ]
     },
     "metadata": {
      "needs_background": "light"
     },
     "output_type": "display_data"
    }
   ],
   "source": [
    "hclust = linkage(iris)\n",
    "dendrogram(hclust)\n",
    "plt.show()"
   ]
  },
  {
   "cell_type": "markdown",
   "metadata": {
    "id": "emVIduBZF-jw"
   },
   "source": [
    "#### A side note about distances:\n",
    "To find the \"similarity\" for a group of clusters, we simply measure the magnitude of the vector between two the two data points (in whatever dimension we are working with). There are many ways to calculate the magnitude of this vector: for instance, in class we gave the example of either using the euclidean distance or the manhattan distance."
   ]
  },
  {
   "cell_type": "markdown",
   "metadata": {
    "id": "eY2MtHEMF-jw"
   },
   "source": [
    "## K-Means Clustering\n",
    "\n",
    "K-means clustering is another technique for finding groupings in a dataset. Recall kNN from a few lectures ago; k-means uses a similar geometric approach. The k-means algorithm takes in the number of clusters (k), computes the centroid of each cluster, and assigns observations to clusters based on distance from the centroid. Let's take another look at the iris dataset. "
   ]
  },
  {
   "cell_type": "code",
   "execution_count": 4,
   "metadata": {
    "id": "14lbRaZlF-jx",
    "outputId": "205fd86e-7b8e-4b0c-ca2b-a1c9493cf629"
   },
   "outputs": [
    {
     "data": {
      "text/html": [
       "<div>\n",
       "<style scoped>\n",
       "    .dataframe tbody tr th:only-of-type {\n",
       "        vertical-align: middle;\n",
       "    }\n",
       "\n",
       "    .dataframe tbody tr th {\n",
       "        vertical-align: top;\n",
       "    }\n",
       "\n",
       "    .dataframe thead th {\n",
       "        text-align: right;\n",
       "    }\n",
       "</style>\n",
       "<table border=\"1\" class=\"dataframe\">\n",
       "  <thead>\n",
       "    <tr style=\"text-align: right;\">\n",
       "      <th></th>\n",
       "      <th>petal length (cm)</th>\n",
       "      <th>petal width (cm)</th>\n",
       "      <th>Species</th>\n",
       "    </tr>\n",
       "  </thead>\n",
       "  <tbody>\n",
       "    <tr>\n",
       "      <th>0</th>\n",
       "      <td>1.4</td>\n",
       "      <td>0.2</td>\n",
       "      <td>0</td>\n",
       "    </tr>\n",
       "    <tr>\n",
       "      <th>1</th>\n",
       "      <td>1.4</td>\n",
       "      <td>0.2</td>\n",
       "      <td>0</td>\n",
       "    </tr>\n",
       "    <tr>\n",
       "      <th>2</th>\n",
       "      <td>1.3</td>\n",
       "      <td>0.2</td>\n",
       "      <td>0</td>\n",
       "    </tr>\n",
       "    <tr>\n",
       "      <th>3</th>\n",
       "      <td>1.5</td>\n",
       "      <td>0.2</td>\n",
       "      <td>0</td>\n",
       "    </tr>\n",
       "    <tr>\n",
       "      <th>4</th>\n",
       "      <td>1.4</td>\n",
       "      <td>0.2</td>\n",
       "      <td>0</td>\n",
       "    </tr>\n",
       "  </tbody>\n",
       "</table>\n",
       "</div>"
      ],
      "text/plain": [
       "   petal length (cm)  petal width (cm)  Species\n",
       "0                1.4               0.2        0\n",
       "1                1.4               0.2        0\n",
       "2                1.3               0.2        0\n",
       "3                1.5               0.2        0\n",
       "4                1.4               0.2        0"
      ]
     },
     "execution_count": 4,
     "metadata": {},
     "output_type": "execute_result"
    }
   ],
   "source": [
    "data = datasets.load_iris()\n",
    "iris = pd.DataFrame(data.data, columns=data.feature_names)\n",
    "iris_target = pd.DataFrame(data.target, columns=['Species'])\n",
    "iris_with_target = pd.concat([iris, iris_target], axis=1)\n",
    "\n",
    "iris = iris.drop('sepal length (cm)', axis=1)\n",
    "iris = iris.drop('sepal width (cm)', axis=1)\n",
    "iris_with_target = iris_with_target.drop('sepal length (cm)', axis=1)\n",
    "iris_with_target = iris_with_target.drop('sepal width (cm)', axis=1)\n",
    "\n",
    "iris_with_target.head()"
   ]
  },
  {
   "cell_type": "markdown",
   "metadata": {
    "id": "JzbemfNyF-jz"
   },
   "source": [
    "We've added species identification back into the dataset for the purpose of viewing the groupings in the data. We also drop sepal length and sepal width so that we can plot the observations on a 2d graph. "
   ]
  },
  {
   "cell_type": "code",
   "execution_count": 5,
   "metadata": {
    "id": "QMPYrsvxF-j0",
    "outputId": "0185bf52-c9c1-4b4e-c5cc-406d80359b97"
   },
   "outputs": [
    {
     "data": {
      "image/png": "[encoded data removed]",
      "text/plain": [
       "<Figure size 432x288 with 1 Axes>"
      ]
     },
     "metadata": {
      "needs_background": "light"
     },
     "output_type": "display_data"
    }
   ],
   "source": [
    "k = len(iris_with_target['Species'].unique())\n",
    "for i in iris_with_target['Species'].unique():\n",
    "    # select only the applicable rows\n",
    "    ds = iris_with_target[iris_with_target['Species'] == i]\n",
    "    # plot the points\n",
    "    plt.plot(ds[['petal length (cm)']],ds[['petal width (cm)']],'o')\n",
    "plt.title(\"Iris by Species\")\n",
    "plt.xlabel('petal length (cm)')\n",
    "plt.ylabel('petal width (cm)')\n",
    "plt.show()"
   ]
  },
  {
   "cell_type": "markdown",
   "metadata": {
    "id": "oBdPc7WZF-j2"
   },
   "source": [
    "We can clearly see the three groupings in the data corresponding to the three species. Let's see if we can replicate these clusters using the k-means algorithm. "
   ]
  },
  {
   "cell_type": "markdown",
   "metadata": {
    "id": "GfDZp0CIF-j2"
   },
   "source": [
    "### Problem 2a\n",
    "\n",
    "Perform k-means clustering on the iris dataset (using only the petal length and petal width features). We have already dropped the other features for you; you should use the dataframe named 'iris' initialized above."
   ]
  },
  {
   "cell_type": "code",
   "execution_count": 9,
   "metadata": {
    "id": "-YxA6yWYF-j3"
   },
   "outputs": [],
   "source": [
    "from sklearn import cluster\n",
    "from sklearn.cluster import KMeans\n"
   ]
  },
  {
   "cell_type": "code",
   "execution_count": 11,
   "metadata": {
    "id": "EKvT3YUuzC_F"
   },
   "outputs": [
    {
     "data": {
      "text/plain": [
       "KMeans(n_clusters=3)"
      ]
     },
     "execution_count": 11,
     "metadata": {},
     "output_type": "execute_result"
    }
   ],
   "source": [
    "kmeans = KMeans(n_clusters=3)\n",
    "kmeans.fit(iris)"
   ]
  },
  {
   "cell_type": "markdown",
   "metadata": {
    "id": "4hII99V6F-j7"
   },
   "source": [
    "To test your code, let's plot your results and compare them to the actual groupings found above. "
   ]
  },
  {
   "cell_type": "code",
   "execution_count": 12,
   "metadata": {
    "id": "fuhwoRWVF-j8",
    "outputId": "a447edd2-5fc7-4ba6-be01-6f647372a397"
   },
   "outputs": [
    {
     "data": {
      "image/png": "[encoded data removed]",
      "text/plain": [
       "<Figure size 432x288 with 2 Axes>"
      ]
     },
     "metadata": {
      "needs_background": "light"
     },
     "output_type": "display_data"
    }
   ],
   "source": [
    "labels = kmeans.labels_\n",
    "centroids = kmeans.cluster_centers_\n",
    "\n",
    "_, (ax1, ax2) = plt.subplots(1, 2, sharey=True)\n",
    "\n",
    "# original graph\n",
    "for i in iris_with_target['Species'].unique():\n",
    "    # select only the applicable rows\n",
    "    ds = iris_with_target[iris_with_target['Species'] == i]\n",
    "    # plot the points\n",
    "    ax1.plot(ds[['petal length (cm)']],ds[['petal width (cm)']],'o')\n",
    "ax1.set_title(\"Iris by Species\")\n",
    "ax1.set_xlabel('petal length (cm)')\n",
    "ax1.set_ylabel('petal width (cm)')\n",
    "\n",
    "# kmeans graph\n",
    "for i in range(k):\n",
    "    # select only data observations from the applicable cluster\n",
    "    ds = iris.iloc[np.where(labels==i)]\n",
    "    # plot the data observations\n",
    "    ax2.plot(ds['petal length (cm)'],ds['petal width (cm)'],'o')\n",
    "    # plot the centroids\n",
    "    lines = plt.plot(centroids[i,0],centroids[i,1],'kx')\n",
    "ax2.set_title(\"Iris by K-Means Clustering\")\n",
    "ax2.set_xlabel('petal length (cm)')\n",
    "ax2.set_ylabel('petal width (cm)')\n",
    "\n",
    "plt.show()"
   ]
  },
  {
   "cell_type": "markdown",
   "metadata": {
    "id": "S_ERaMjzzC_G"
   },
   "source": [
    "### Problem 2b"
   ]
  },
  {
   "cell_type": "markdown",
   "metadata": {
    "id": "Ct4F4ddmzC_G"
   },
   "source": [
    "Now we will also apply kmeans clustering on a different dataset about wines. In the section of code specified below, create a kmeans model stored in a variable named `kmeans` and train it on the wines dataset. Use the number of unique values in the 'target' column as the number of clusters."
   ]
  },
  {
   "cell_type": "code",
   "execution_count": 15,
   "metadata": {
    "id": "qIvFR86AF-j-",
    "outputId": "b76f708e-f577-4c02-afb9-f200d99055af"
   },
   "outputs": [
    {
     "name": "stdout",
     "output_type": "stream",
     "text": [
      "[0, 1, 2]\n"
     ]
    },
    {
     "data": {
      "image/png": "[encoded data removed]",
      "text/plain": [
       "<Figure size 432x288 with 2 Axes>"
      ]
     },
     "metadata": {
      "needs_background": "light"
     },
     "output_type": "display_data"
    }
   ],
   "source": [
    "from sklearn import datasets\n",
    "import pandas as pd\n",
    "import numpy as np\n",
    "wine = datasets.load_wine()\n",
    "wine_df = pd.DataFrame(data= np.c_[wine['data'], wine['target']],\n",
    "                     columns= wine['feature_names'] + ['target'])\n",
    "\n",
    "X = wine_df[['flavanoids','alcohol']]\n",
    "\n",
    "# YOUR CODE HERE!\n",
    "target_list = []\n",
    "for x in wine['target']:\n",
    "    if x not in target_list:\n",
    "        target_list.append(x)\n",
    "print(target_list)\n",
    "kmeans = KMeans(n_clusters=len(target_list))\n",
    "kmeans.fit(wine_df)\n",
    "\n",
    "# END\n",
    "\n",
    "labels = kmeans.labels_\n",
    "centroids = kmeans.cluster_centers_\n",
    "\n",
    "_, (ax1, ax2) = plt.subplots(1, 2, sharey=True)\n",
    "\n",
    "\n",
    "# original graph\n",
    "for i in wine_df['target'].unique():\n",
    "    # select only the applicable rows\n",
    "    ds = wine_df[wine_df['target'] == i]\n",
    "    # plot the points\n",
    "    ax1.plot(ds[['flavanoids']],ds[['alcohol']],'o')\n",
    "ax1.set_title(\"Wines by Label\")\n",
    "ax1.set_xlabel('flavanoids')\n",
    "ax1.set_ylabel('alcohol')\n",
    "\n",
    "# kmeans graph\n",
    "for i in range(k):\n",
    "    # select only data observations from the applicable cluster\n",
    "    ds = X.iloc[np.where(labels==i)]\n",
    "    # plot the data observations\n",
    "    ax2.plot(ds['flavanoids'],ds['alcohol'],'o')\n",
    "    # plot the centroids\n",
    "    lines = plt.plot(centroids[i,0],centroids[i,1],'kx')\n",
    "ax2.set_title(\"Wines by Clustering\")\n",
    "ax2.set_xlabel('flavanoids')\n",
    "ax2.set_ylabel('alcohol')\n",
    "\n",
    "plt.show()"
   ]
  },
  {
   "cell_type": "markdown",
   "metadata": {
    "id": "gibJLp0eF-kA"
   },
   "source": [
    "## GMMs"
   ]
  },
  {
   "cell_type": "markdown",
   "metadata": {
    "id": "iAcKyE1NF-kA"
   },
   "source": [
    "The k-means algorithm we just covered have a major flaw - they do not account for variance. You perhaps can recall from your stats class that the variance, visually, is related to the width of a bell shaped curve. Extending on this visual, you can imagine the variance in two-dimensions to just be the radius of a sphere.\n",
    "\n",
    "Whenever we perform k-means clustering on a model, it groups the data into clusters of circles (in 2 dimension, and hyper-spheres in higher dimensions). This works fine if your data is circular, but performs badly when it is in any shape otherwise. Here is a good visual example: https://towardsdatascience.com/gaussian-mixture-models-d13a5e915c8e.\n",
    "\n",
    "In such cases, we turn to GMMs. GMMs also have an added advantage of not giving hard assignments into clusters (which k-means does), rather giving 'soft assignments', where each data point can be generated by any of the distributions with corresponding probability.\n",
    "\n",
    "This concept may seem rather abstract right now - let's see it visually!"
   ]
  },
  {
   "cell_type": "code",
   "execution_count": null,
   "metadata": {
    "id": "CrXQnh47F-kB",
    "outputId": "2ca83808-1a9e-411f-ecc2-538d2f76e7f2"
   },
   "outputs": [
    {
     "name": "stderr",
     "output_type": "stream",
     "text": [
      "/Library/Frameworks/Python.framework/Versions/3.8/lib/python3.8/site-packages/sklearn/utils/deprecation.py:143: FutureWarning: The sklearn.datasets.samples_generator module is  deprecated in version 0.22 and will be removed in version 0.24. The corresponding classes / functions should instead be imported from sklearn.datasets. Anything that cannot be imported from sklearn.datasets is now part of the private API.\n",
      "  warnings.warn(message, FutureWarning)\n"
     ]
    },
    {
     "data": {
      "image/png": "[encoded data removed]",
      "text/plain": [
       "<Figure size 432x288 with 1 Axes>"
      ]
     },
     "metadata": {
      "needs_background": "light"
     },
     "output_type": "display_data"
    }
   ],
   "source": [
    "from sklearn.datasets import make_blobs\n",
    "from scipy.spatial.distance import cdist\n",
    "\n",
    "X, y = make_blobs(n_samples=400, centers=4, cluster_std=0.60, random_state=0)\n",
    "X = X[:, ::-1] # reversing the axis for better display\n",
    "\n",
    "model = cluster.KMeans(4, random_state=0)\n",
    "model.fit(X)\n",
    "predictions = model.predict(X)\n",
    "\n",
    "ax = plt.gca()\n",
    "ax.scatter(X[:, 0], X[:, 1], c=predictions, s=40, cmap='viridis', zorder=2)\n",
    "centers = model.cluster_centers_\n",
    "radii = [cdist(X[predictions == i], [center]).max()\n",
    "         for i, center in enumerate(centers)]\n",
    "for c, r in zip(centers, radii):\n",
    "    ax.add_patch(plt.Circle(c, r, fc='#CCCCCC', lw=3, alpha=0.5, zorder=1))"
   ]
  },
  {
   "cell_type": "code",
   "execution_count": null,
   "metadata": {
    "id": "LBimblyZF-kC",
    "outputId": "44751369-4c28-4f95-9b87-4c2de0288be1"
   },
   "outputs": [
    {
     "data": {
      "image/png": "[encoded data removed]",
      "text/plain": [
       "<Figure size 432x288 with 1 Axes>"
      ]
     },
     "metadata": {
      "needs_background": "light"
     },
     "output_type": "display_data"
    }
   ],
   "source": [
    "rng = np.random.RandomState(13)\n",
    "X_stretched = np.dot(X, rng.randn(2, 2))\n",
    "\n",
    "model = cluster.KMeans(n_clusters=4, random_state=0)\n",
    "model.fit(X_stretched)\n",
    "predictions = model.predict(X_stretched)\n",
    "\n",
    "ax = plt.gca()\n",
    "ax.scatter(X_stretched[:, 0], X_stretched[:, 1], c=predictions, s=40, cmap='viridis', zorder=2)\n",
    "centers = model.cluster_centers_\n",
    "radii = [cdist(X_stretched[predictions == i], [center]).max()\n",
    "         for i, center in enumerate(centers)]\n",
    "for c, r in zip(centers, radii):\n",
    "    ax.add_patch(plt.Circle(c, r, fc='#CCCCCC', lw=3, alpha=0.5, zorder=1))"
   ]
  },
  {
   "cell_type": "markdown",
   "metadata": {
    "id": "cQYEV88IF-kE"
   },
   "source": [
    "As you can see, a K-Means model generally performs quite poorly when fitting any non-circular shapes (the shaded areas aren't representative of the shape of the data which is more elongated than circular). Let's see how a GMM performs instead:"
   ]
  },
  {
   "cell_type": "markdown",
   "metadata": {
    "id": "gz4P3NNPF-kE"
   },
   "source": [
    "### Problem 3 (Optional)"
   ]
  },
  {
   "cell_type": "markdown",
   "metadata": {
    "id": "MeeNhwtuzC_H"
   },
   "source": [
    "In the cell below, you can see code for how to train a GMM and plot the points while coloring them based on the prediction of the GMM. In the following cell, we provide functions that do the exact same thing, but also plot the points with a shaded ellipse in the background corresponding to the covariance of that group. Call the `plot_gmm` function on both the `X` and `X_stretched` datasets."
   ]
  },
  {
   "cell_type": "code",
   "execution_count": null,
   "metadata": {
    "id": "bd0WWfYSF-kF",
    "outputId": "cfe5f045-357f-4b76-ba50-c62952b4dea6",
    "scrolled": true
   },
   "outputs": [
    {
     "data": {
      "image/png": "[encoded data removed]",
      "text/plain": [
       "<Figure size 432x288 with 1 Axes>"
      ]
     },
     "metadata": {
      "needs_background": "light"
     },
     "output_type": "display_data"
    }
   ],
   "source": [
    "from sklearn.mixture import GaussianMixture\n",
    "\n",
    "gmm = GaussianMixture(n_components=4, random_state=42)\n",
    "gmm.fit(X)\n",
    "predictions = gmm.predict(X)\n",
    "plt.scatter(X[:, 0], X[:, 1], c=predictions, s=40, cmap='viridis');"
   ]
  },
  {
   "cell_type": "markdown",
   "metadata": {
    "id": "R_D81jRHF-kG"
   },
   "source": [
    "We can see the GMMs' performance more clearly with the drawn boundaries below:"
   ]
  },
  {
   "cell_type": "code",
   "execution_count": null,
   "metadata": {
    "id": "B6Im1a26F-kH"
   },
   "outputs": [],
   "source": [
    "# you can use these functions\n",
    "from matplotlib.patches import Ellipse\n",
    "\n",
    "def draw_ellipse(position, covariance, ax=None, **kwargs):\n",
    "    \"\"\"Draw an ellipse with a given position and covariance\"\"\"\n",
    "    ax = ax or plt.gca()\n",
    "\n",
    "    # Convert covariance to principal axes\n",
    "    if covariance.shape == (2, 2):\n",
    "        U, s, Vt = np.linalg.svd(covariance)\n",
    "        angle = np.degrees(np.arctan2(U[1, 0], U[0, 0]))\n",
    "        width, height = 2 * np.sqrt(s)\n",
    "    else:\n",
    "        angle = 0\n",
    "        width, height = 2 * np.sqrt(covariance)\n",
    "    \n",
    "    # Draw the Ellipse\n",
    "    for nsig in range(1, 4):\n",
    "        ax.add_patch(Ellipse(position, nsig * width, nsig * height,\n",
    "                             angle, **kwargs))\n",
    "        \n",
    "def plot_gmm(model, X, ax=None):\n",
    "    \n",
    "    ax = ax or plt.gca()\n",
    "    model.fit(X)\n",
    "    predictions = model.predict(X)\n",
    "    ax.scatter(X[:, 0], X[:, 1], c=predictions, s=40, cmap='viridis', zorder=2)\n",
    "    ax.axis('equal')\n",
    "    \n",
    "    w_factor = 0.2 / model.weights_.max()\n",
    "    for pos, covar, w in zip(model.means_, model.covariances_, model.weights_):\n",
    "        draw_ellipse(pos, covar, alpha=w * w_factor)"
   ]
  },
  {
   "cell_type": "code",
   "execution_count": null,
   "metadata": {
    "id": "tFQNASraF-kJ"
   },
   "outputs": [],
   "source": [
    "# Your Code Here! Make the models and plot them."
   ]
  },
  {
   "cell_type": "markdown",
   "metadata": {
    "id": "WuWJG53dF-kN"
   },
   "source": [
    "## PCA (Optional)\n",
    "\n",
    "We use principal component analysis to determine which features contribute most significantly to variation in a dataset. Let's do an example on HR analytics data. If you're interested, you can read about the dataset [here](https://www.kaggle.com/giripujar/hr-analytics)."
   ]
  },
  {
   "cell_type": "code",
   "execution_count": null,
   "metadata": {
    "id": "rZqK7RFVF-kN",
    "outputId": "a7ac3113-d313-4f7a-b76f-cd7d092d69e9"
   },
   "outputs": [
    {
     "data": {
      "text/html": [
       "<div>\n",
       "<style scoped>\n",
       "    .dataframe tbody tr th:only-of-type {\n",
       "        vertical-align: middle;\n",
       "    }\n",
       "\n",
       "    .dataframe tbody tr th {\n",
       "        vertical-align: top;\n",
       "    }\n",
       "\n",
       "    .dataframe thead th {\n",
       "        text-align: right;\n",
       "    }\n",
       "</style>\n",
       "<table border=\"1\" class=\"dataframe\">\n",
       "  <thead>\n",
       "    <tr style=\"text-align: right;\">\n",
       "      <th></th>\n",
       "      <th>satisfaction_level</th>\n",
       "      <th>last_evaluation</th>\n",
       "      <th>number_project</th>\n",
       "      <th>average_montly_hours</th>\n",
       "      <th>time_spend_company</th>\n",
       "      <th>Work_accident</th>\n",
       "      <th>promotion_last_5years</th>\n",
       "    </tr>\n",
       "  </thead>\n",
       "  <tbody>\n",
       "    <tr>\n",
       "      <th>0</th>\n",
       "      <td>-0.936495</td>\n",
       "      <td>-1.087275</td>\n",
       "      <td>-1.462863</td>\n",
       "      <td>-0.882040</td>\n",
       "      <td>-0.341235</td>\n",
       "      <td>-0.411165</td>\n",
       "      <td>-0.147412</td>\n",
       "    </tr>\n",
       "    <tr>\n",
       "      <th>1</th>\n",
       "      <td>0.752814</td>\n",
       "      <td>0.840707</td>\n",
       "      <td>0.971113</td>\n",
       "      <td>1.220423</td>\n",
       "      <td>1.713436</td>\n",
       "      <td>-0.411165</td>\n",
       "      <td>-0.147412</td>\n",
       "    </tr>\n",
       "    <tr>\n",
       "      <th>2</th>\n",
       "      <td>-2.022479</td>\n",
       "      <td>0.957554</td>\n",
       "      <td>2.593763</td>\n",
       "      <td>1.420657</td>\n",
       "      <td>0.343655</td>\n",
       "      <td>-0.411165</td>\n",
       "      <td>-0.147412</td>\n",
       "    </tr>\n",
       "    <tr>\n",
       "      <th>3</th>\n",
       "      <td>0.431041</td>\n",
       "      <td>0.899131</td>\n",
       "      <td>0.971113</td>\n",
       "      <td>0.439508</td>\n",
       "      <td>1.028546</td>\n",
       "      <td>-0.411165</td>\n",
       "      <td>-0.147412</td>\n",
       "    </tr>\n",
       "    <tr>\n",
       "      <th>4</th>\n",
       "      <td>-0.976716</td>\n",
       "      <td>-1.145699</td>\n",
       "      <td>-1.462863</td>\n",
       "      <td>-0.841993</td>\n",
       "      <td>-0.341235</td>\n",
       "      <td>-0.411165</td>\n",
       "      <td>-0.147412</td>\n",
       "    </tr>\n",
       "  </tbody>\n",
       "</table>\n",
       "</div>"
      ],
      "text/plain": [
       "   satisfaction_level  last_evaluation  number_project  average_montly_hours  \\\n",
       "0           -0.936495        -1.087275       -1.462863             -0.882040   \n",
       "1            0.752814         0.840707        0.971113              1.220423   \n",
       "2           -2.022479         0.957554        2.593763              1.420657   \n",
       "3            0.431041         0.899131        0.971113              0.439508   \n",
       "4           -0.976716        -1.145699       -1.462863             -0.841993   \n",
       "\n",
       "   time_spend_company  Work_accident  promotion_last_5years  \n",
       "0           -0.341235      -0.411165              -0.147412  \n",
       "1            1.713436      -0.411165              -0.147412  \n",
       "2            0.343655      -0.411165              -0.147412  \n",
       "3            1.028546      -0.411165              -0.147412  \n",
       "4           -0.341235      -0.411165              -0.147412  "
      ]
     },
     "execution_count": 22,
     "metadata": {},
     "output_type": "execute_result"
    }
   ],
   "source": [
    "from sklearn import preprocessing\n",
    "from sklearn.decomposition import PCA\n",
    "from matplotlib import pyplot as plt\n",
    "\n",
    "hr_data = pd.read_csv('lecture9data.csv')\n",
    "\n",
    "hr_data = hr_data.drop('left', axis=1)\n",
    "hr_data = hr_data.drop('Department', axis=1)\n",
    "hr_data = hr_data.drop('salary', axis=1)\n",
    "\n",
    "hr_data = pd.DataFrame(preprocessing.scale(hr_data),columns = hr_data.columns)\n",
    "hr_data.head()"
   ]
  },
  {
   "cell_type": "code",
   "execution_count": null,
   "metadata": {
    "id": "vQxAsq2NF-kP",
    "outputId": "23d108e1-0fe8-4d8a-f23e-b4aa4157ee45"
   },
   "outputs": [
    {
     "data": {
      "image/png": "[encoded data removed]",
      "text/plain": [
       "<Figure size 432x288 with 1 Axes>"
      ]
     },
     "metadata": {
      "needs_background": "light"
     },
     "output_type": "display_data"
    }
   ],
   "source": [
    "# perform PCA\n",
    "pca = PCA().fit(hr_data)\n",
    "\n",
    "# plot fraction of variance explained by each component\n",
    "x = np.arange(7)\n",
    "plt.bar(x, pca.explained_variance_ratio_)\n",
    "plt.title('Fraction of Variance Explained by Each Component')\n",
    "plt.xlabel('Component')\n",
    "plt.ylabel('Fraction of Total Variance')\n",
    "plt.show()"
   ]
  },
  {
   "cell_type": "markdown",
   "metadata": {
    "id": "xU65A4s-F-kQ"
   },
   "source": [
    "Now we need to determine the relationship between components and features. It's important to understand that a component does not correspond to a single feature; a component may be related to multiple features. "
   ]
  },
  {
   "cell_type": "code",
   "execution_count": null,
   "metadata": {
    "id": "KjpZPqd1F-kR",
    "outputId": "a8ab37a2-128d-4f08-dfa5-192046b426a8"
   },
   "outputs": [
    {
     "data": {
      "text/html": [
       "<div>\n",
       "<style scoped>\n",
       "    .dataframe tbody tr th:only-of-type {\n",
       "        vertical-align: middle;\n",
       "    }\n",
       "\n",
       "    .dataframe tbody tr th {\n",
       "        vertical-align: top;\n",
       "    }\n",
       "\n",
       "    .dataframe thead th {\n",
       "        text-align: right;\n",
       "    }\n",
       "</style>\n",
       "<table border=\"1\" class=\"dataframe\">\n",
       "  <thead>\n",
       "    <tr style=\"text-align: right;\">\n",
       "      <th></th>\n",
       "      <th>satisfaction_level</th>\n",
       "      <th>last_evaluation</th>\n",
       "      <th>number_project</th>\n",
       "      <th>average_montly_hours</th>\n",
       "      <th>time_spend_company</th>\n",
       "      <th>Work_accident</th>\n",
       "      <th>promotion_last_5years</th>\n",
       "    </tr>\n",
       "  </thead>\n",
       "  <tbody>\n",
       "    <tr>\n",
       "      <th>0</th>\n",
       "      <td>-0.087977</td>\n",
       "      <td>0.506957</td>\n",
       "      <td>0.578835</td>\n",
       "      <td>0.549017</td>\n",
       "      <td>0.313549</td>\n",
       "      <td>-0.019302</td>\n",
       "      <td>0.009969</td>\n",
       "    </tr>\n",
       "    <tr>\n",
       "      <th>1</th>\n",
       "      <td>0.797525</td>\n",
       "      <td>0.331809</td>\n",
       "      <td>-0.103380</td>\n",
       "      <td>0.103890</td>\n",
       "      <td>-0.284045</td>\n",
       "      <td>0.374899</td>\n",
       "      <td>0.105573</td>\n",
       "    </tr>\n",
       "    <tr>\n",
       "      <th>2</th>\n",
       "      <td>-0.094390</td>\n",
       "      <td>-0.134995</td>\n",
       "      <td>-0.022935</td>\n",
       "      <td>-0.107150</td>\n",
       "      <td>0.425479</td>\n",
       "      <td>0.452452</td>\n",
       "      <td>0.758363</td>\n",
       "    </tr>\n",
       "    <tr>\n",
       "      <th>3</th>\n",
       "      <td>0.267869</td>\n",
       "      <td>0.110150</td>\n",
       "      <td>-0.103362</td>\n",
       "      <td>-0.010349</td>\n",
       "      <td>0.040369</td>\n",
       "      <td>-0.804839</td>\n",
       "      <td>0.505892</td>\n",
       "    </tr>\n",
       "    <tr>\n",
       "      <th>4</th>\n",
       "      <td>0.336371</td>\n",
       "      <td>0.073935</td>\n",
       "      <td>-0.196776</td>\n",
       "      <td>-0.251710</td>\n",
       "      <td>0.787822</td>\n",
       "      <td>-0.057630</td>\n",
       "      <td>-0.394112</td>\n",
       "    </tr>\n",
       "    <tr>\n",
       "      <th>5</th>\n",
       "      <td>-0.277849</td>\n",
       "      <td>0.707810</td>\n",
       "      <td>0.006571</td>\n",
       "      <td>-0.634973</td>\n",
       "      <td>-0.122001</td>\n",
       "      <td>0.036229</td>\n",
       "      <td>0.048730</td>\n",
       "    </tr>\n",
       "    <tr>\n",
       "      <th>6</th>\n",
       "      <td>0.291899</td>\n",
       "      <td>-0.309966</td>\n",
       "      <td>0.777360</td>\n",
       "      <td>-0.457877</td>\n",
       "      <td>-0.052872</td>\n",
       "      <td>-0.044331</td>\n",
       "      <td>-0.003917</td>\n",
       "    </tr>\n",
       "  </tbody>\n",
       "</table>\n",
       "</div>"
      ],
      "text/plain": [
       "   satisfaction_level  last_evaluation  number_project  average_montly_hours  \\\n",
       "0           -0.087977         0.506957        0.578835              0.549017   \n",
       "1            0.797525         0.331809       -0.103380              0.103890   \n",
       "2           -0.094390        -0.134995       -0.022935             -0.107150   \n",
       "3            0.267869         0.110150       -0.103362             -0.010349   \n",
       "4            0.336371         0.073935       -0.196776             -0.251710   \n",
       "5           -0.277849         0.707810        0.006571             -0.634973   \n",
       "6            0.291899        -0.309966        0.777360             -0.457877   \n",
       "\n",
       "   time_spend_company  Work_accident  promotion_last_5years  \n",
       "0            0.313549      -0.019302               0.009969  \n",
       "1           -0.284045       0.374899               0.105573  \n",
       "2            0.425479       0.452452               0.758363  \n",
       "3            0.040369      -0.804839               0.505892  \n",
       "4            0.787822      -0.057630              -0.394112  \n",
       "5           -0.122001       0.036229               0.048730  \n",
       "6           -0.052872      -0.044331              -0.003917  "
      ]
     },
     "execution_count": 24,
     "metadata": {},
     "output_type": "execute_result"
    }
   ],
   "source": [
    "components = pd.DataFrame(pca.components_, columns=hr_data.columns)\n",
    "components"
   ]
  },
  {
   "cell_type": "markdown",
   "metadata": {
    "id": "8ajd6y3eF-kS"
   },
   "source": [
    "Each number is the correlation between the feature and the component. For example, we can see that the feature which is most strongly correlated with component 1 is satisfaction_level. "
   ]
  },
  {
   "cell_type": "markdown",
   "metadata": {
    "id": "-ARZQQueF-kT"
   },
   "source": [
    "### Question 4 (Advanced - Optional)\n",
    "\n",
    "Based on the results of the principal component analysis above, which features would you expect are most important to include in a predictive model? Why?"
   ]
  },
  {
   "cell_type": "markdown",
   "metadata": {
    "id": "PGlcDryUF-kT"
   },
   "source": []
  },
  {
   "cell_type": "markdown",
   "metadata": {
    "id": "-ukLF1w6F-kT"
   },
   "source": [
    "### Further Readings:\n",
    "\n",
    "Actually, there are four major categories of machine learning systems: supervised learning, unsupervised learning, semisupervised learning, and reinforcement learning. Semisupervised learning, as you can guess, involved models that take in __partially labeled data__ (usually a lot of unlabeled data and just a little labeled data), while reinforcement learning covers goal-oriented algorithms that repeatedly learn and master a particular (usuallly complex task). Reinforcement learning is often the basis of many \"AI learns to play...\" youtube and facebook videos.\n",
    "\n",
    "_Side note, you can watch people use reinforcement learning to beat games_ [_here_](https://www.youtube.com/watch?v=L4KBBAwF_bE) _(super cool) and_ [_here_](https://www.youtube.com/watch?v=MasxAN-xZIU) _(a less successful - but no less cool - attempt)_\n",
    "\n",
    "To get an overview of these different categories, we highly recommend you read the very first chapter of this book: [__Hands-On Machine Learning with Scikit-Learn & Tensorflow__](http://index-of.es/Varios-2/Hands%20on%20Machine%20Learning%20with%20Scikit%20Learn%20and%20Tensorflow.pdf) (and continue reading if you want to learn how to implement them in Python). In fact, if you go through the book, some of the concepts should seem familiar to you, as we covered them either briefly or somewhat in depth throughout the semester. Indeed, be proud of yourself: you already have the basic concepts of machine learning and data science more or less nailed down!"
   ]
  },
  {
   "cell_type": "markdown",
   "metadata": {
    "id": "A7Mr7gLhF-kV"
   },
   "source": [
    "____"
   ]
  }
 ],
 "metadata": {
  "colab": {
   "collapsed_sections": [],
   "name": "Lecture_9_Unsupervised_Release.ipynb",
   "provenance": []
  },
  "kernelspec": {
   "display_name": "Python 3",
   "language": "python",
   "name": "python3"
  },
  "language_info": {
   "codemirror_mode": {
    "name": "ipython",
    "version": 3
   },
   "file_extension": ".py",
   "mimetype": "text/x-python",
   "name": "python",
   "nbconvert_exporter": "python",
   "pygments_lexer": "ipython3",
   "version": "3.8.8"
  },
  "notebookId": "PAG=GBo}Q}it}"
 },
 "nbformat": 4,
 "nbformat_minor": 1
}
