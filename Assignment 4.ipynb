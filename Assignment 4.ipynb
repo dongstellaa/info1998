{
 "cells": [
  {
   "cell_type": "markdown",
   "metadata": {
    "id": "59JNiBJLNAPU"
   },
   "source": [
    "# Fundamentals of Machine Learning Part 1"
   ]
  },
  {
   "cell_type": "markdown",
   "metadata": {
    "id": "aSnixRZaNAPY"
   },
   "source": [
    "### NETID: ssd74"
   ]
  },
  {
   "cell_type": "code",
   "execution_count": 1,
   "metadata": {
    "executionInfo": {
     "elapsed": 165,
     "status": "ok",
     "timestamp": 1646848775424,
     "user": {
      "displayName": "Kelly Lu",
      "photoUrl": "https://lh3.googleusercontent.com/a-/AOh14GhBJOcWEOJSq7Sac1aULmBnym_h98gIkXWAKxFC=s64",
      "userId": "13804689239916936151"
     },
     "user_tz": 300
    },
    "id": "LWOnoD1pNAPY"
   },
   "outputs": [],
   "source": [
    "import numpy as np\n",
    "import pandas as pd\n",
    "import sklearn\n",
    "from sklearn.linear_model import LinearRegression\n",
    "from sklearn.model_selection import train_test_split\n",
    "import matplotlib.pyplot as plt"
   ]
  },
  {
   "cell_type": "code",
   "execution_count": 3,
   "metadata": {
    "executionInfo": {
     "elapsed": 336,
     "status": "ok",
     "timestamp": 1646848775936,
     "user": {
      "displayName": "Kelly Lu",
      "photoUrl": "https://lh3.googleusercontent.com/a-/AOh14GhBJOcWEOJSq7Sac1aULmBnym_h98gIkXWAKxFC=s64",
      "userId": "13804689239916936151"
     },
     "user_tz": 300
    },
    "id": "4P6bU18SNAPa"
   },
   "outputs": [],
   "source": [
    "# Import the data. Make sure that lecture4data.csv is in the same folder as this file!\n",
    "original_data = pd.read_csv('lecture4data.csv')"
   ]
  },
  {
   "cell_type": "markdown",
   "metadata": {
    "id": "KbRhscTyNAPb"
   },
   "source": []
  },
  {
   "cell_type": "markdown",
   "metadata": {
    "id": "Y-mfyyLUNAPb"
   },
   "source": [
    "# Problem  1: Python Practice"
   ]
  },
  {
   "cell_type": "code",
   "execution_count": 4,
   "metadata": {
    "executionInfo": {
     "elapsed": 13,
     "status": "ok",
     "timestamp": 1646848775937,
     "user": {
      "displayName": "Kelly Lu",
      "photoUrl": "https://lh3.googleusercontent.com/a-/AOh14GhBJOcWEOJSq7Sac1aULmBnym_h98gIkXWAKxFC=s64",
      "userId": "13804689239916936151"
     },
     "user_tz": 300
    },
    "id": "n03_CkLkNAPc"
   },
   "outputs": [],
   "source": [
    "problem_1_data = original_data.copy()"
   ]
  },
  {
   "cell_type": "markdown",
   "metadata": {
    "id": "TdKOhS0qNAPd"
   },
   "source": [
    "### a) Print out the first few rows of `problem_1_data`"
   ]
  },
  {
   "cell_type": "code",
   "execution_count": 5,
   "metadata": {
    "executionInfo": {
     "elapsed": 13,
     "status": "ok",
     "timestamp": 1646848775937,
     "user": {
      "displayName": "Kelly Lu",
      "photoUrl": "https://lh3.googleusercontent.com/a-/AOh14GhBJOcWEOJSq7Sac1aULmBnym_h98gIkXWAKxFC=s64",
      "userId": "13804689239916936151"
     },
     "user_tz": 300
    },
    "id": "xyAyyjQ8NAPe"
   },
   "outputs": [
    {
     "data": {
      "text/html": [
       "<div>\n",
       "<style scoped>\n",
       "    .dataframe tbody tr th:only-of-type {\n",
       "        vertical-align: middle;\n",
       "    }\n",
       "\n",
       "    .dataframe tbody tr th {\n",
       "        vertical-align: top;\n",
       "    }\n",
       "\n",
       "    .dataframe thead th {\n",
       "        text-align: right;\n",
       "    }\n",
       "</style>\n",
       "<table border=\"1\" class=\"dataframe\">\n",
       "  <thead>\n",
       "    <tr style=\"text-align: right;\">\n",
       "      <th></th>\n",
       "      <th>name</th>\n",
       "      <th>city</th>\n",
       "      <th>state</th>\n",
       "      <th>adm_rate</th>\n",
       "      <th>undergrads</th>\n",
       "      <th>cost</th>\n",
       "      <th>compl_4</th>\n",
       "      <th>median_hh_inc</th>\n",
       "      <th>median_earnings</th>\n",
       "    </tr>\n",
       "  </thead>\n",
       "  <tbody>\n",
       "    <tr>\n",
       "      <th>0</th>\n",
       "      <td>Alabama A &amp; M University</td>\n",
       "      <td>Normal</td>\n",
       "      <td>AL</td>\n",
       "      <td>0.6538</td>\n",
       "      <td>4505</td>\n",
       "      <td>20809</td>\n",
       "      <td>0.1104</td>\n",
       "      <td>49720.22</td>\n",
       "      <td>29900</td>\n",
       "    </tr>\n",
       "    <tr>\n",
       "      <th>1</th>\n",
       "      <td>University of Alabama at Birmingham</td>\n",
       "      <td>Birmingham</td>\n",
       "      <td>AL</td>\n",
       "      <td>0.6043</td>\n",
       "      <td>11269</td>\n",
       "      <td>22232</td>\n",
       "      <td>0.3173</td>\n",
       "      <td>55735.22</td>\n",
       "      <td>40200</td>\n",
       "    </tr>\n",
       "    <tr>\n",
       "      <th>2</th>\n",
       "      <td>University of Alabama in Huntsville</td>\n",
       "      <td>Huntsville</td>\n",
       "      <td>AL</td>\n",
       "      <td>0.8120</td>\n",
       "      <td>5829</td>\n",
       "      <td>20999</td>\n",
       "      <td>0.1848</td>\n",
       "      <td>58688.62</td>\n",
       "      <td>45600</td>\n",
       "    </tr>\n",
       "    <tr>\n",
       "      <th>3</th>\n",
       "      <td>Alabama State University</td>\n",
       "      <td>Montgomery</td>\n",
       "      <td>AL</td>\n",
       "      <td>0.4639</td>\n",
       "      <td>4740</td>\n",
       "      <td>18100</td>\n",
       "      <td>0.1216</td>\n",
       "      <td>46065.20</td>\n",
       "      <td>26700</td>\n",
       "    </tr>\n",
       "    <tr>\n",
       "      <th>4</th>\n",
       "      <td>The University of Alabama</td>\n",
       "      <td>Tuscaloosa</td>\n",
       "      <td>AL</td>\n",
       "      <td>0.5359</td>\n",
       "      <td>31005</td>\n",
       "      <td>27205</td>\n",
       "      <td>0.4135</td>\n",
       "      <td>57928.41</td>\n",
       "      <td>42700</td>\n",
       "    </tr>\n",
       "  </tbody>\n",
       "</table>\n",
       "</div>"
      ],
      "text/plain": [
       "                                  name        city state  adm_rate  \\\n",
       "0             Alabama A & M University      Normal    AL    0.6538   \n",
       "1  University of Alabama at Birmingham  Birmingham    AL    0.6043   \n",
       "2  University of Alabama in Huntsville  Huntsville    AL    0.8120   \n",
       "3             Alabama State University  Montgomery    AL    0.4639   \n",
       "4            The University of Alabama  Tuscaloosa    AL    0.5359   \n",
       "\n",
       "   undergrads   cost  compl_4  median_hh_inc  median_earnings  \n",
       "0        4505  20809   0.1104       49720.22            29900  \n",
       "1       11269  22232   0.3173       55735.22            40200  \n",
       "2        5829  20999   0.1848       58688.62            45600  \n",
       "3        4740  18100   0.1216       46065.20            26700  \n",
       "4       31005  27205   0.4135       57928.41            42700  "
      ]
     },
     "execution_count": 5,
     "metadata": {},
     "output_type": "execute_result"
    }
   ],
   "source": [
    "problem_1_data.head(5)"
   ]
  },
  {
   "cell_type": "markdown",
   "metadata": {
    "id": "fQn_Tt-INAPe"
   },
   "source": [
    "### b) Add a new column to `problem_1_data` called `education_profit_ratio` that holds each schools' `median_earnings` divided by its `cost`."
   ]
  },
  {
   "cell_type": "code",
   "execution_count": 7,
   "metadata": {
    "executionInfo": {
     "elapsed": 13,
     "status": "ok",
     "timestamp": 1646848775937,
     "user": {
      "displayName": "Kelly Lu",
      "photoUrl": "https://lh3.googleusercontent.com/a-/AOh14GhBJOcWEOJSq7Sac1aULmBnym_h98gIkXWAKxFC=s64",
      "userId": "13804689239916936151"
     },
     "user_tz": 300
    },
    "id": "cui2rel9NAPf"
   },
   "outputs": [
    {
     "data": {
      "text/html": [
       "<div>\n",
       "<style scoped>\n",
       "    .dataframe tbody tr th:only-of-type {\n",
       "        vertical-align: middle;\n",
       "    }\n",
       "\n",
       "    .dataframe tbody tr th {\n",
       "        vertical-align: top;\n",
       "    }\n",
       "\n",
       "    .dataframe thead th {\n",
       "        text-align: right;\n",
       "    }\n",
       "</style>\n",
       "<table border=\"1\" class=\"dataframe\">\n",
       "  <thead>\n",
       "    <tr style=\"text-align: right;\">\n",
       "      <th></th>\n",
       "      <th>name</th>\n",
       "      <th>city</th>\n",
       "      <th>state</th>\n",
       "      <th>adm_rate</th>\n",
       "      <th>undergrads</th>\n",
       "      <th>cost</th>\n",
       "      <th>compl_4</th>\n",
       "      <th>median_hh_inc</th>\n",
       "      <th>median_earnings</th>\n",
       "      <th>education_profit_ratio</th>\n",
       "    </tr>\n",
       "  </thead>\n",
       "  <tbody>\n",
       "    <tr>\n",
       "      <th>0</th>\n",
       "      <td>Alabama A &amp; M University</td>\n",
       "      <td>Normal</td>\n",
       "      <td>AL</td>\n",
       "      <td>0.6538</td>\n",
       "      <td>4505</td>\n",
       "      <td>20809</td>\n",
       "      <td>0.1104</td>\n",
       "      <td>49720.22</td>\n",
       "      <td>29900</td>\n",
       "      <td>1.436878</td>\n",
       "    </tr>\n",
       "    <tr>\n",
       "      <th>1</th>\n",
       "      <td>University of Alabama at Birmingham</td>\n",
       "      <td>Birmingham</td>\n",
       "      <td>AL</td>\n",
       "      <td>0.6043</td>\n",
       "      <td>11269</td>\n",
       "      <td>22232</td>\n",
       "      <td>0.3173</td>\n",
       "      <td>55735.22</td>\n",
       "      <td>40200</td>\n",
       "      <td>1.808204</td>\n",
       "    </tr>\n",
       "    <tr>\n",
       "      <th>2</th>\n",
       "      <td>University of Alabama in Huntsville</td>\n",
       "      <td>Huntsville</td>\n",
       "      <td>AL</td>\n",
       "      <td>0.8120</td>\n",
       "      <td>5829</td>\n",
       "      <td>20999</td>\n",
       "      <td>0.1848</td>\n",
       "      <td>58688.62</td>\n",
       "      <td>45600</td>\n",
       "      <td>2.171532</td>\n",
       "    </tr>\n",
       "    <tr>\n",
       "      <th>3</th>\n",
       "      <td>Alabama State University</td>\n",
       "      <td>Montgomery</td>\n",
       "      <td>AL</td>\n",
       "      <td>0.4639</td>\n",
       "      <td>4740</td>\n",
       "      <td>18100</td>\n",
       "      <td>0.1216</td>\n",
       "      <td>46065.20</td>\n",
       "      <td>26700</td>\n",
       "      <td>1.475138</td>\n",
       "    </tr>\n",
       "    <tr>\n",
       "      <th>4</th>\n",
       "      <td>The University of Alabama</td>\n",
       "      <td>Tuscaloosa</td>\n",
       "      <td>AL</td>\n",
       "      <td>0.5359</td>\n",
       "      <td>31005</td>\n",
       "      <td>27205</td>\n",
       "      <td>0.4135</td>\n",
       "      <td>57928.41</td>\n",
       "      <td>42700</td>\n",
       "      <td>1.569564</td>\n",
       "    </tr>\n",
       "  </tbody>\n",
       "</table>\n",
       "</div>"
      ],
      "text/plain": [
       "                                  name        city state  adm_rate  \\\n",
       "0             Alabama A & M University      Normal    AL    0.6538   \n",
       "1  University of Alabama at Birmingham  Birmingham    AL    0.6043   \n",
       "2  University of Alabama in Huntsville  Huntsville    AL    0.8120   \n",
       "3             Alabama State University  Montgomery    AL    0.4639   \n",
       "4            The University of Alabama  Tuscaloosa    AL    0.5359   \n",
       "\n",
       "   undergrads   cost  compl_4  median_hh_inc  median_earnings  \\\n",
       "0        4505  20809   0.1104       49720.22            29900   \n",
       "1       11269  22232   0.3173       55735.22            40200   \n",
       "2        5829  20999   0.1848       58688.62            45600   \n",
       "3        4740  18100   0.1216       46065.20            26700   \n",
       "4       31005  27205   0.4135       57928.41            42700   \n",
       "\n",
       "   education_profit_ratio  \n",
       "0                1.436878  \n",
       "1                1.808204  \n",
       "2                2.171532  \n",
       "3                1.475138  \n",
       "4                1.569564  "
      ]
     },
     "execution_count": 7,
     "metadata": {},
     "output_type": "execute_result"
    }
   ],
   "source": [
    "problem_1_data['education_profit_ratio']=problem_1_data['median_earnings']/problem_1_data['cost']\n",
    "problem_1_data.head(5)\n"
   ]
  },
  {
   "cell_type": "markdown",
   "metadata": {
    "id": "LS2tm2HyNAPf"
   },
   "source": [
    "### c) (OPTIONAL) Briefly describe what `cost_single_brackets`, `cost_double_brackets`, and `multiple_columns` look like (what their shapes/dimensions are).\n",
    "\n",
    "<b>Hint</b>: You can use Python's `type` function to tell the type of an objective. For example, `print(type(dylanIsCool))` will print out the type of `dylanIsCool`. You can also try printing out the object to see what it looks like."
   ]
  },
  {
   "cell_type": "code",
   "execution_count": 8,
   "metadata": {
    "executionInfo": {
     "elapsed": 13,
     "status": "ok",
     "timestamp": 1646848775937,
     "user": {
      "displayName": "Kelly Lu",
      "photoUrl": "https://lh3.googleusercontent.com/a-/AOh14GhBJOcWEOJSq7Sac1aULmBnym_h98gIkXWAKxFC=s64",
      "userId": "13804689239916936151"
     },
     "user_tz": 300
    },
    "id": "CqhHfFUwNAPg"
   },
   "outputs": [],
   "source": [
    "multiple_columns = problem_1_data[['cost', 'median_earnings']]\n",
    "cost_single_brackets = problem_1_data['cost']\n",
    "cost_double_brackets = problem_1_data[['cost']]"
   ]
  },
  {
   "cell_type": "markdown",
   "metadata": {
    "id": "KqX8AJR9NAPg"
   },
   "source": []
  },
  {
   "cell_type": "markdown",
   "metadata": {
    "id": "yvEDy3DrNAPg"
   },
   "source": [
    "# Basics of Machine Learning\n",
    "\n",
    "So far we have discussed the importance of data visualization and data preprocessing. These steps are important in preparing the datasets. Now, we will start our machine learning section of the course. We have already discussed how a machine learning model is like a function, and we will now explain a bit more using __linear regression__ models. Before we begin, we should import some useful python."
   ]
  },
  {
   "cell_type": "markdown",
   "metadata": {
    "id": "bwQ_7ZqaNAPh"
   },
   "source": [
    "This dataset contains information on different colleges across the US. The full dataset was assembled from https://collegescorecard.ed.gov/data/ and this version was trimmed down to a few important columns and cleaned to removed schools with missing data.\n",
    "\n",
    "We will look at adm_rate (admission rate), undergrads (number of undergrads), cost (cost to attand the college for a year), compl_4 (percent of students graduated in 4 years), median_hh_inc (median household income of students), and median_earnings (median earnings 10 years after starting college).\n",
    "\n",
    "We want to predict median_earnings using other columns in the data set. In other words, we have some inputs from the dataframe (such as cost), and we want to output another column in the dataframe (median_earnings)."
   ]
  },
  {
   "cell_type": "markdown",
   "metadata": {
    "id": "iklQ2xvNNAPh"
   },
   "source": [
    "# Section 1: Intro"
   ]
  },
  {
   "cell_type": "markdown",
   "metadata": {
    "id": "8FiqmRR_NAPi"
   },
   "source": [
    "To keep things clean throughout this Jupyter Notebook, in each section, we first make a copy of the original data. You won't have to do this in your own projects."
   ]
  },
  {
   "cell_type": "code",
   "execution_count": 9,
   "metadata": {
    "colab": {
     "base_uri": "https://localhost:8080/",
     "height": 371
    },
    "executionInfo": {
     "elapsed": 13,
     "status": "ok",
     "timestamp": 1646848775938,
     "user": {
      "displayName": "Kelly Lu",
      "photoUrl": "https://lh3.googleusercontent.com/a-/AOh14GhBJOcWEOJSq7Sac1aULmBnym_h98gIkXWAKxFC=s64",
      "userId": "13804689239916936151"
     },
     "user_tz": 300
    },
    "id": "bE4m-67hNAPi",
    "outputId": "f1746724-76c2-4242-bc6b-c16f2a4203d2"
   },
   "outputs": [
    {
     "data": {
      "text/html": [
       "<div>\n",
       "<style scoped>\n",
       "    .dataframe tbody tr th:only-of-type {\n",
       "        vertical-align: middle;\n",
       "    }\n",
       "\n",
       "    .dataframe tbody tr th {\n",
       "        vertical-align: top;\n",
       "    }\n",
       "\n",
       "    .dataframe thead th {\n",
       "        text-align: right;\n",
       "    }\n",
       "</style>\n",
       "<table border=\"1\" class=\"dataframe\">\n",
       "  <thead>\n",
       "    <tr style=\"text-align: right;\">\n",
       "      <th></th>\n",
       "      <th>name</th>\n",
       "      <th>city</th>\n",
       "      <th>state</th>\n",
       "      <th>adm_rate</th>\n",
       "      <th>undergrads</th>\n",
       "      <th>cost</th>\n",
       "      <th>compl_4</th>\n",
       "      <th>median_hh_inc</th>\n",
       "      <th>median_earnings</th>\n",
       "    </tr>\n",
       "  </thead>\n",
       "  <tbody>\n",
       "    <tr>\n",
       "      <th>0</th>\n",
       "      <td>Alabama A &amp; M University</td>\n",
       "      <td>Normal</td>\n",
       "      <td>AL</td>\n",
       "      <td>0.6538</td>\n",
       "      <td>4505</td>\n",
       "      <td>20809</td>\n",
       "      <td>0.1104</td>\n",
       "      <td>49720.22</td>\n",
       "      <td>29900</td>\n",
       "    </tr>\n",
       "    <tr>\n",
       "      <th>1</th>\n",
       "      <td>University of Alabama at Birmingham</td>\n",
       "      <td>Birmingham</td>\n",
       "      <td>AL</td>\n",
       "      <td>0.6043</td>\n",
       "      <td>11269</td>\n",
       "      <td>22232</td>\n",
       "      <td>0.3173</td>\n",
       "      <td>55735.22</td>\n",
       "      <td>40200</td>\n",
       "    </tr>\n",
       "    <tr>\n",
       "      <th>2</th>\n",
       "      <td>University of Alabama in Huntsville</td>\n",
       "      <td>Huntsville</td>\n",
       "      <td>AL</td>\n",
       "      <td>0.8120</td>\n",
       "      <td>5829</td>\n",
       "      <td>20999</td>\n",
       "      <td>0.1848</td>\n",
       "      <td>58688.62</td>\n",
       "      <td>45600</td>\n",
       "    </tr>\n",
       "    <tr>\n",
       "      <th>3</th>\n",
       "      <td>Alabama State University</td>\n",
       "      <td>Montgomery</td>\n",
       "      <td>AL</td>\n",
       "      <td>0.4639</td>\n",
       "      <td>4740</td>\n",
       "      <td>18100</td>\n",
       "      <td>0.1216</td>\n",
       "      <td>46065.20</td>\n",
       "      <td>26700</td>\n",
       "    </tr>\n",
       "    <tr>\n",
       "      <th>4</th>\n",
       "      <td>The University of Alabama</td>\n",
       "      <td>Tuscaloosa</td>\n",
       "      <td>AL</td>\n",
       "      <td>0.5359</td>\n",
       "      <td>31005</td>\n",
       "      <td>27205</td>\n",
       "      <td>0.4135</td>\n",
       "      <td>57928.41</td>\n",
       "      <td>42700</td>\n",
       "    </tr>\n",
       "  </tbody>\n",
       "</table>\n",
       "</div>"
      ],
      "text/plain": [
       "                                  name        city state  adm_rate  \\\n",
       "0             Alabama A & M University      Normal    AL    0.6538   \n",
       "1  University of Alabama at Birmingham  Birmingham    AL    0.6043   \n",
       "2  University of Alabama in Huntsville  Huntsville    AL    0.8120   \n",
       "3             Alabama State University  Montgomery    AL    0.4639   \n",
       "4            The University of Alabama  Tuscaloosa    AL    0.5359   \n",
       "\n",
       "   undergrads   cost  compl_4  median_hh_inc  median_earnings  \n",
       "0        4505  20809   0.1104       49720.22            29900  \n",
       "1       11269  22232   0.3173       55735.22            40200  \n",
       "2        5829  20999   0.1848       58688.62            45600  \n",
       "3        4740  18100   0.1216       46065.20            26700  \n",
       "4       31005  27205   0.4135       57928.41            42700  "
      ]
     },
     "execution_count": 9,
     "metadata": {},
     "output_type": "execute_result"
    }
   ],
   "source": [
    "section_1_data = original_data.copy()\n",
    "section_1_data.head()"
   ]
  },
  {
   "cell_type": "markdown",
   "metadata": {
    "id": "IsCNRjE2NAPi"
   },
   "source": [
    "Now, let's start machine learning! We'll choose a set of inputs, and then use machine learning to predict median_earnings using that set of inputs"
   ]
  },
  {
   "cell_type": "code",
   "execution_count": 10,
   "metadata": {
    "executionInfo": {
     "elapsed": 11,
     "status": "ok",
     "timestamp": 1646848775938,
     "user": {
      "displayName": "Kelly Lu",
      "photoUrl": "https://lh3.googleusercontent.com/a-/AOh14GhBJOcWEOJSq7Sac1aULmBnym_h98gIkXWAKxFC=s64",
      "userId": "13804689239916936151"
     },
     "user_tz": 300
    },
    "id": "SEbVnCBoNAPj"
   },
   "outputs": [],
   "source": [
    "inputs = section_1_data[['cost']]\n",
    "outputs = section_1_data['median_earnings']"
   ]
  },
  {
   "cell_type": "code",
   "execution_count": 11,
   "metadata": {
    "colab": {
     "base_uri": "https://localhost:8080/",
     "height": 224
    },
    "executionInfo": {
     "elapsed": 11,
     "status": "ok",
     "timestamp": 1646848775938,
     "user": {
      "displayName": "Kelly Lu",
      "photoUrl": "https://lh3.googleusercontent.com/a-/AOh14GhBJOcWEOJSq7Sac1aULmBnym_h98gIkXWAKxFC=s64",
      "userId": "13804689239916936151"
     },
     "user_tz": 300
    },
    "id": "fChXgRr-NAPj",
    "outputId": "f994edd4-37e4-4342-9ba7-c0dbe38fdfc9"
   },
   "outputs": [
    {
     "name": "stdout",
     "output_type": "stream",
     "text": [
      "<class 'pandas.core.frame.DataFrame'>\n"
     ]
    },
    {
     "data": {
      "text/html": [
       "<div>\n",
       "<style scoped>\n",
       "    .dataframe tbody tr th:only-of-type {\n",
       "        vertical-align: middle;\n",
       "    }\n",
       "\n",
       "    .dataframe tbody tr th {\n",
       "        vertical-align: top;\n",
       "    }\n",
       "\n",
       "    .dataframe thead th {\n",
       "        text-align: right;\n",
       "    }\n",
       "</style>\n",
       "<table border=\"1\" class=\"dataframe\">\n",
       "  <thead>\n",
       "    <tr style=\"text-align: right;\">\n",
       "      <th></th>\n",
       "      <th>cost</th>\n",
       "    </tr>\n",
       "  </thead>\n",
       "  <tbody>\n",
       "    <tr>\n",
       "      <th>0</th>\n",
       "      <td>20809</td>\n",
       "    </tr>\n",
       "    <tr>\n",
       "      <th>1</th>\n",
       "      <td>22232</td>\n",
       "    </tr>\n",
       "    <tr>\n",
       "      <th>2</th>\n",
       "      <td>20999</td>\n",
       "    </tr>\n",
       "    <tr>\n",
       "      <th>3</th>\n",
       "      <td>18100</td>\n",
       "    </tr>\n",
       "    <tr>\n",
       "      <th>4</th>\n",
       "      <td>27205</td>\n",
       "    </tr>\n",
       "  </tbody>\n",
       "</table>\n",
       "</div>"
      ],
      "text/plain": [
       "    cost\n",
       "0  20809\n",
       "1  22232\n",
       "2  20999\n",
       "3  18100\n",
       "4  27205"
      ]
     },
     "execution_count": 11,
     "metadata": {},
     "output_type": "execute_result"
    }
   ],
   "source": [
    "print(type(inputs))\n",
    "inputs.head(5)"
   ]
  },
  {
   "cell_type": "code",
   "execution_count": 12,
   "metadata": {
    "colab": {
     "base_uri": "https://localhost:8080/"
    },
    "executionInfo": {
     "elapsed": 8,
     "status": "ok",
     "timestamp": 1646848775938,
     "user": {
      "displayName": "Kelly Lu",
      "photoUrl": "https://lh3.googleusercontent.com/a-/AOh14GhBJOcWEOJSq7Sac1aULmBnym_h98gIkXWAKxFC=s64",
      "userId": "13804689239916936151"
     },
     "user_tz": 300
    },
    "id": "Whbh6XeRNAPj",
    "outputId": "82c24037-c3c4-4654-bf30-a4e529918848"
   },
   "outputs": [
    {
     "name": "stdout",
     "output_type": "stream",
     "text": [
      "<class 'pandas.core.series.Series'>\n"
     ]
    },
    {
     "data": {
      "text/plain": [
       "0    29900\n",
       "1    40200\n",
       "2    45600\n",
       "3    26700\n",
       "4    42700\n",
       "Name: median_earnings, dtype: int64"
      ]
     },
     "execution_count": 12,
     "metadata": {},
     "output_type": "execute_result"
    }
   ],
   "source": [
    "print(type(outputs))\n",
    "outputs[:5]"
   ]
  },
  {
   "cell_type": "code",
   "execution_count": 13,
   "metadata": {
    "executionInfo": {
     "elapsed": 7,
     "status": "ok",
     "timestamp": 1646848775938,
     "user": {
      "displayName": "Kelly Lu",
      "photoUrl": "https://lh3.googleusercontent.com/a-/AOh14GhBJOcWEOJSq7Sac1aULmBnym_h98gIkXWAKxFC=s64",
      "userId": "13804689239916936151"
     },
     "user_tz": 300
    },
    "id": "xDPtFmgcNAPj"
   },
   "outputs": [],
   "source": [
    "ML_object_that_predicts = LinearRegression()"
   ]
  },
  {
   "cell_type": "markdown",
   "metadata": {
    "id": "QpYpSM17NAPk"
   },
   "source": [
    "We called a function in sklearn called `LinearRegression` and stored the result in `ML_object_that_predicts`. `ML_object_that_predicts` is an object with several useful functions. You can access these functions through `ML_object_that_predicts.<insert function name here>`. As its name implies, we'll use these functions to make predictions.\n",
    "\n",
    "To do this, we're use the `fit` function and `predict` functions. We'll go into what fitting is later. To predict, give `ML_object_that_predicts` a set of inputs, and it'll spit out a set of predictions based on those inputs."
   ]
  },
  {
   "cell_type": "code",
   "execution_count": 14,
   "metadata": {
    "colab": {
     "base_uri": "https://localhost:8080/",
     "height": 363
    },
    "executionInfo": {
     "elapsed": 385,
     "status": "ok",
     "timestamp": 1646848776317,
     "user": {
      "displayName": "Kelly Lu",
      "photoUrl": "https://lh3.googleusercontent.com/a-/AOh14GhBJOcWEOJSq7Sac1aULmBnym_h98gIkXWAKxFC=s64",
      "userId": "13804689239916936151"
     },
     "user_tz": 300
    },
    "id": "tTCLGFTkNAPk",
    "outputId": "fa6c0f78-822c-412d-82e2-8afbaec1662e"
   },
   "outputs": [
    {
     "data": {
      "text/html": [
       "<div>\n",
       "<style scoped>\n",
       "    .dataframe tbody tr th:only-of-type {\n",
       "        vertical-align: middle;\n",
       "    }\n",
       "\n",
       "    .dataframe tbody tr th {\n",
       "        vertical-align: top;\n",
       "    }\n",
       "\n",
       "    .dataframe thead th {\n",
       "        text-align: right;\n",
       "    }\n",
       "</style>\n",
       "<table border=\"1\" class=\"dataframe\">\n",
       "  <thead>\n",
       "    <tr style=\"text-align: right;\">\n",
       "      <th></th>\n",
       "      <th>REAL median_income</th>\n",
       "      <th>PREDICTED median_income</th>\n",
       "    </tr>\n",
       "  </thead>\n",
       "  <tbody>\n",
       "    <tr>\n",
       "      <th>0</th>\n",
       "      <td>36200</td>\n",
       "      <td>35659.150942</td>\n",
       "    </tr>\n",
       "    <tr>\n",
       "      <th>1</th>\n",
       "      <td>42700</td>\n",
       "      <td>44239.451395</td>\n",
       "    </tr>\n",
       "    <tr>\n",
       "      <th>2</th>\n",
       "      <td>42500</td>\n",
       "      <td>37177.409277</td>\n",
       "    </tr>\n",
       "    <tr>\n",
       "      <th>3</th>\n",
       "      <td>42800</td>\n",
       "      <td>42462.534625</td>\n",
       "    </tr>\n",
       "    <tr>\n",
       "      <th>4</th>\n",
       "      <td>35200</td>\n",
       "      <td>45324.623556</td>\n",
       "    </tr>\n",
       "    <tr>\n",
       "      <th>5</th>\n",
       "      <td>45800</td>\n",
       "      <td>41478.088340</td>\n",
       "    </tr>\n",
       "    <tr>\n",
       "      <th>6</th>\n",
       "      <td>49200</td>\n",
       "      <td>48904.428228</td>\n",
       "    </tr>\n",
       "    <tr>\n",
       "      <th>7</th>\n",
       "      <td>31100</td>\n",
       "      <td>44439.499303</td>\n",
       "    </tr>\n",
       "    <tr>\n",
       "      <th>8</th>\n",
       "      <td>43900</td>\n",
       "      <td>36473.381025</td>\n",
       "    </tr>\n",
       "    <tr>\n",
       "      <th>9</th>\n",
       "      <td>21400</td>\n",
       "      <td>42818.760286</td>\n",
       "    </tr>\n",
       "  </tbody>\n",
       "</table>\n",
       "</div>"
      ],
      "text/plain": [
       "   REAL median_income  PREDICTED median_income\n",
       "0               36200             35659.150942\n",
       "1               42700             44239.451395\n",
       "2               42500             37177.409277\n",
       "3               42800             42462.534625\n",
       "4               35200             45324.623556\n",
       "5               45800             41478.088340\n",
       "6               49200             48904.428228\n",
       "7               31100             44439.499303\n",
       "8               43900             36473.381025\n",
       "9               21400             42818.760286"
      ]
     },
     "execution_count": 14,
     "metadata": {},
     "output_type": "execute_result"
    }
   ],
   "source": [
    "known_input, future_input, known_output, future_output = train_test_split(inputs, outputs, test_size=0.2, random_state=42)\n",
    "\n",
    "ML_object_that_predicts.fit(known_input, known_output) # tell it known stuff\n",
    "\n",
    "predictions = ML_object_that_predicts.predict(future_input) # given future input, predict future output!\n",
    "\n",
    "# compare actual median_earnings and the predicted median_earnings\n",
    "pd.DataFrame({\"REAL median_income\":future_output, \"PREDICTED median_income\":predictions}).reset_index(drop=True).head(10)"
   ]
  },
  {
   "cell_type": "markdown",
   "metadata": {
    "id": "4p2e7diqNAPk"
   },
   "source": [
    "Now we'll call the `score` function of `ML_object_that_predicts`. This returns a \"score\", which is a measure of how accurate the predictions are. The best score is 1, and negative scores are really bad."
   ]
  },
  {
   "cell_type": "code",
   "execution_count": 15,
   "metadata": {
    "colab": {
     "base_uri": "https://localhost:8080/"
    },
    "executionInfo": {
     "elapsed": 8,
     "status": "ok",
     "timestamp": 1646848776317,
     "user": {
      "displayName": "Kelly Lu",
      "photoUrl": "https://lh3.googleusercontent.com/a-/AOh14GhBJOcWEOJSq7Sac1aULmBnym_h98gIkXWAKxFC=s64",
      "userId": "13804689239916936151"
     },
     "user_tz": 300
    },
    "id": "M-xj3l38NAPk",
    "outputId": "eea26b3e-c513-4e6f-9fdf-e3638cd4aec9"
   },
   "outputs": [
    {
     "name": "stdout",
     "output_type": "stream",
     "text": [
      "Score: 0.17036266107284015\n"
     ]
    }
   ],
   "source": [
    "print(\"Score:\", ML_object_that_predicts.score(future_input, future_output))"
   ]
  },
  {
   "cell_type": "markdown",
   "metadata": {
    "id": "z12LbkFiNAPk"
   },
   "source": [
    "Let's quickly visualize what we just did. The blue points are the true values, and the black points (which are close together, so they look like a line) are our predictions. Our predictions aren't super accurate, but they're somewhat close for most points."
   ]
  },
  {
   "cell_type": "code",
   "execution_count": 16,
   "metadata": {
    "colab": {
     "base_uri": "https://localhost:8080/",
     "height": 295
    },
    "executionInfo": {
     "elapsed": 7,
     "status": "ok",
     "timestamp": 1646848776317,
     "user": {
      "displayName": "Kelly Lu",
      "photoUrl": "https://lh3.googleusercontent.com/a-/AOh14GhBJOcWEOJSq7Sac1aULmBnym_h98gIkXWAKxFC=s64",
      "userId": "13804689239916936151"
     },
     "user_tz": 300
    },
    "id": "PjdvWRPDNAPl",
    "outputId": "c747bb0a-0967-4b71-ce3b-5c16c7d4d30c"
   },
   "outputs": [
    {
     "data": {
      "image/png": "[encoded data removed]",
      "text/plain": [
       "<Figure size 432x288 with 1 Axes>"
      ]
     },
     "metadata": {
      "needs_background": "light"
     },
     "output_type": "display_data"
    }
   ],
   "source": [
    "plt.scatter(future_input, future_output)\n",
    "plt.plot(future_input, predictions, 'k', linewidth=4)\n",
    "plt.legend([\"Predictions\",\"Actual Values\"])\n",
    "plt.title('Cost of Attendance vs Median Earnings')\n",
    "plt.xlabel('Cost of Attendance')\n",
    "plt.ylabel('Median Earnings')\n",
    "plt.show()"
   ]
  },
  {
   "cell_type": "markdown",
   "metadata": {
    "id": "BvW0xh21NAPl"
   },
   "source": [
    "### Summary:\n",
    "\n",
    "sklearn has an object called `ML_object_that_predicts`. We \"fit\" it on some inputs and outputs. Then, we give `ML_object_that_predicts` some more inputs, and it predicts outputs.\n",
    "\n",
    "### What we don't know:\n",
    "\n",
    "What's \"fitting\"?\n",
    "\n",
    "Why do we split the dataset up?\n",
    "\n",
    "How does the model make predictions?\n",
    "\n",
    "How do we increase the model's score (how do we make our model better)?"
   ]
  },
  {
   "cell_type": "markdown",
   "metadata": {
    "id": "ViPlXFriNAPl"
   },
   "source": [
    "# Section 2: Fitting / Training"
   ]
  },
  {
   "cell_type": "code",
   "execution_count": 17,
   "metadata": {
    "executionInfo": {
     "elapsed": 7,
     "status": "ok",
     "timestamp": 1646848776318,
     "user": {
      "displayName": "Kelly Lu",
      "photoUrl": "https://lh3.googleusercontent.com/a-/AOh14GhBJOcWEOJSq7Sac1aULmBnym_h98gIkXWAKxFC=s64",
      "userId": "13804689239916936151"
     },
     "user_tz": 300
    },
    "id": "D5-truzXNAPl"
   },
   "outputs": [],
   "source": [
    "section_2_data = original_data.copy()"
   ]
  },
  {
   "cell_type": "markdown",
   "metadata": {
    "id": "VmEPxGVUNAPl"
   },
   "source": [
    "The inputs are called \"features\", and the output is called the \"target\".\n",
    "\n",
    "`ML_object_that_predicts` is a \"model\""
   ]
  },
  {
   "cell_type": "code",
   "execution_count": 18,
   "metadata": {
    "executionInfo": {
     "elapsed": 7,
     "status": "ok",
     "timestamp": 1646848776318,
     "user": {
      "displayName": "Kelly Lu",
      "photoUrl": "https://lh3.googleusercontent.com/a-/AOh14GhBJOcWEOJSq7Sac1aULmBnym_h98gIkXWAKxFC=s64",
      "userId": "13804689239916936151"
     },
     "user_tz": 300
    },
    "id": "o8vENepXNAPl"
   },
   "outputs": [],
   "source": [
    "features = section_2_data[['cost']]\n",
    "target = section_2_data['median_earnings']\n",
    "model = LinearRegression()"
   ]
  },
  {
   "cell_type": "markdown",
   "metadata": {
    "id": "pzAQxMkYNAPl"
   },
   "source": [
    "In reality, we will train a model on known data, and that model is our product -- we're done with it, and we ship it out to be used. The user will give it new data, and the model will predict the corresponding outputs.\n",
    "We emulate that by splitting our data into \"known\" data and \"new\" data. There're a lot of synonyms for known data and new data, and we'll introduce a couple today."
   ]
  },
  {
   "cell_type": "code",
   "execution_count": 19,
   "metadata": {
    "colab": {
     "base_uri": "https://localhost:8080/"
    },
    "executionInfo": {
     "elapsed": 7,
     "status": "ok",
     "timestamp": 1646848776318,
     "user": {
      "displayName": "Kelly Lu",
      "photoUrl": "https://lh3.googleusercontent.com/a-/AOh14GhBJOcWEOJSq7Sac1aULmBnym_h98gIkXWAKxFC=s64",
      "userId": "13804689239916936151"
     },
     "user_tz": 300
    },
    "id": "ks2Xu94iNAPm",
    "outputId": "87ea2c7a-e587-491e-826e-50fc2f51deca"
   },
   "outputs": [
    {
     "name": "stdout",
     "output_type": "stream",
     "text": [
      "Score: 0.17036266107284015\n"
     ]
    }
   ],
   "source": [
    "from sklearn.model_selection import train_test_split\n",
    "known_data, new_data, known_output, goal_output = train_test_split(features, target, test_size=0.2, random_state=42)\n",
    "\n",
    "# Here, we call the values we are trying to predict the \"goal_output\".\n",
    "# Our goal is to make a model that, when given known_output, can try to predict goal_output.\n",
    "\n",
    "model.fit(known_data, known_output) # train/fit on known inputs\n",
    "predictions = model.predict(new_data) # predict on new data\n",
    "\n",
    "print(\"Score:\", model.score(new_data, goal_output))"
   ]
  },
  {
   "cell_type": "markdown",
   "metadata": {
    "id": "NaEbSYFENAPm"
   },
   "source": [
    "### Summary\n",
    "`LinearRegression()` returns a \"model\", which is an object that we first train, then use to predict values. To train, we call `model.fit` with known features and their corresponding outputs. To predict, we call `model.predict` on some new set of data, which it wasn't trained on\n",
    "\n",
    "### What we still don't know\n",
    "\n",
    "How does the model make predictions?\n",
    "\n",
    "How do we increase the model's score (how do we make our model better)?"
   ]
  },
  {
   "cell_type": "markdown",
   "metadata": {
    "id": "NRR2GSPJNAPm"
   },
   "source": [
    "# Section 3: Models"
   ]
  },
  {
   "cell_type": "code",
   "execution_count": 20,
   "metadata": {
    "executionInfo": {
     "elapsed": 6,
     "status": "ok",
     "timestamp": 1646848776318,
     "user": {
      "displayName": "Kelly Lu",
      "photoUrl": "https://lh3.googleusercontent.com/a-/AOh14GhBJOcWEOJSq7Sac1aULmBnym_h98gIkXWAKxFC=s64",
      "userId": "13804689239916936151"
     },
     "user_tz": 300
    },
    "id": "yOfyT02HNAPm"
   },
   "outputs": [],
   "source": [
    "section_3_data = original_data.copy()"
   ]
  },
  {
   "cell_type": "code",
   "execution_count": 21,
   "metadata": {
    "colab": {
     "base_uri": "https://localhost:8080/"
    },
    "executionInfo": {
     "elapsed": 6,
     "status": "ok",
     "timestamp": 1646848776318,
     "user": {
      "displayName": "Kelly Lu",
      "photoUrl": "https://lh3.googleusercontent.com/a-/AOh14GhBJOcWEOJSq7Sac1aULmBnym_h98gIkXWAKxFC=s64",
      "userId": "13804689239916936151"
     },
     "user_tz": 300
    },
    "id": "ei_mYCGrNAPm",
    "outputId": "59069964-97bc-499a-a5b2-ed27d6ac4d61"
   },
   "outputs": [
    {
     "data": {
      "text/plain": [
       "LinearRegression()"
      ]
     },
     "execution_count": 21,
     "metadata": {},
     "output_type": "execute_result"
    }
   ],
   "source": [
    "features = section_3_data[['cost','adm_rate']]\n",
    "target = section_3_data['median_earnings']\n",
    "x_train, x_test, y_train, y_test = train_test_split(features, target, test_size=0.2, random_state=42)\n",
    "model = LinearRegression()\n",
    "model.fit(x_train, y_train)"
   ]
  },
  {
   "cell_type": "markdown",
   "metadata": {
    "id": "1Fyp5YvvNAPm"
   },
   "source": [
    "Running the following cell will pull up a description of `model`."
   ]
  },
  {
   "cell_type": "code",
   "execution_count": 22,
   "metadata": {
    "executionInfo": {
     "elapsed": 183,
     "status": "ok",
     "timestamp": 1646848776496,
     "user": {
      "displayName": "Kelly Lu",
      "photoUrl": "https://lh3.googleusercontent.com/a-/AOh14GhBJOcWEOJSq7Sac1aULmBnym_h98gIkXWAKxFC=s64",
      "userId": "13804689239916936151"
     },
     "user_tz": 300
    },
    "id": "fD0YvplaNAPn"
   },
   "outputs": [],
   "source": [
    "# if the popup annoys you, then feel free to comment out the following line\n",
    "model?"
   ]
  },
  {
   "cell_type": "code",
   "execution_count": 23,
   "metadata": {
    "colab": {
     "base_uri": "https://localhost:8080/"
    },
    "executionInfo": {
     "elapsed": 15,
     "status": "ok",
     "timestamp": 1646848776504,
     "user": {
      "displayName": "Kelly Lu",
      "photoUrl": "https://lh3.googleusercontent.com/a-/AOh14GhBJOcWEOJSq7Sac1aULmBnym_h98gIkXWAKxFC=s64",
      "userId": "13804689239916936151"
     },
     "user_tz": 300
    },
    "id": "AXZQ7npvNAPn",
    "outputId": "ca1e67a4-8156-4a48-99ff-98e311e73741"
   },
   "outputs": [
    {
     "data": {
      "text/plain": [
       "array([ 3.14511519e-01, -8.76543392e+03])"
      ]
     },
     "execution_count": 23,
     "metadata": {},
     "output_type": "execute_result"
    }
   ],
   "source": [
    "model.coef_"
   ]
  },
  {
   "cell_type": "code",
   "execution_count": 24,
   "metadata": {
    "colab": {
     "base_uri": "https://localhost:8080/"
    },
    "executionInfo": {
     "elapsed": 16,
     "status": "ok",
     "timestamp": 1646848776505,
     "user": {
      "displayName": "Kelly Lu",
      "photoUrl": "https://lh3.googleusercontent.com/a-/AOh14GhBJOcWEOJSq7Sac1aULmBnym_h98gIkXWAKxFC=s64",
      "userId": "13804689239916936151"
     },
     "user_tz": 300
    },
    "id": "8DnsPOOSNAPn",
    "outputId": "cad8cf6c-5f17-42bd-c7ef-2ee30199d1fc"
   },
   "outputs": [
    {
     "data": {
      "text/plain": [
       "37049.972009516816"
      ]
     },
     "execution_count": 24,
     "metadata": {},
     "output_type": "execute_result"
    }
   ],
   "source": [
    "model.intercept_"
   ]
  },
  {
   "cell_type": "markdown",
   "metadata": {
    "id": "tFy8uK1ZNAPn"
   },
   "source": [
    "`model` is a linear regression model of the form $y = B_1*x_1 + B_2*x_2 + k$, where:\n",
    "\n",
    "$y = $ median_earnings, our target\n",
    "\n",
    "$x_1 = $ cost\n",
    "\n",
    "$B_1 = 3.14511519e-01$, the coefficient on cost\n",
    "\n",
    "$x_2 = $ admission rate\n",
    "\n",
    "$B_2 = -8.76543392e+03$, the coefficient on admission rate\n",
    "\n",
    "$k = 37049.972$, the intercept. \n",
    "\n",
    "We won't talk too much about the intercept in this class, but if you're interested in learning more, feel free to ask us after class.\n",
    "\n",
    "Say you have information about a school's cost and admission rate. Then, `model` can use the school's cost and admission rate to predict the school's median earnings. How does it do that? It calculates $predicted\\_median\\_earnings = B_1*cost + B_2 * x_2$\n",
    "\n",
    "Let's try this out on an example."
   ]
  },
  {
   "cell_type": "code",
   "execution_count": 25,
   "metadata": {
    "colab": {
     "base_uri": "https://localhost:8080/",
     "height": 159
    },
    "executionInfo": {
     "elapsed": 14,
     "status": "ok",
     "timestamp": 1646848776505,
     "user": {
      "displayName": "Kelly Lu",
      "photoUrl": "https://lh3.googleusercontent.com/a-/AOh14GhBJOcWEOJSq7Sac1aULmBnym_h98gIkXWAKxFC=s64",
      "userId": "13804689239916936151"
     },
     "user_tz": 300
    },
    "id": "IGEZ1tMjNAPn",
    "outputId": "303be803-8ec8-4dc2-a93d-c5b472d4075f"
   },
   "outputs": [
    {
     "data": {
      "text/html": [
       "<div>\n",
       "<style scoped>\n",
       "    .dataframe tbody tr th:only-of-type {\n",
       "        vertical-align: middle;\n",
       "    }\n",
       "\n",
       "    .dataframe tbody tr th {\n",
       "        vertical-align: top;\n",
       "    }\n",
       "\n",
       "    .dataframe thead th {\n",
       "        text-align: right;\n",
       "    }\n",
       "</style>\n",
       "<table border=\"1\" class=\"dataframe\">\n",
       "  <thead>\n",
       "    <tr style=\"text-align: right;\">\n",
       "      <th></th>\n",
       "      <th>name</th>\n",
       "      <th>city</th>\n",
       "      <th>state</th>\n",
       "      <th>adm_rate</th>\n",
       "      <th>undergrads</th>\n",
       "      <th>cost</th>\n",
       "      <th>compl_4</th>\n",
       "      <th>median_hh_inc</th>\n",
       "      <th>median_earnings</th>\n",
       "    </tr>\n",
       "  </thead>\n",
       "  <tbody>\n",
       "    <tr>\n",
       "      <th>1</th>\n",
       "      <td>University of Alabama at Birmingham</td>\n",
       "      <td>Birmingham</td>\n",
       "      <td>AL</td>\n",
       "      <td>0.6043</td>\n",
       "      <td>11269</td>\n",
       "      <td>22232</td>\n",
       "      <td>0.3173</td>\n",
       "      <td>55735.22</td>\n",
       "      <td>40200</td>\n",
       "    </tr>\n",
       "  </tbody>\n",
       "</table>\n",
       "</div>"
      ],
      "text/plain": [
       "                                  name        city state  adm_rate  \\\n",
       "1  University of Alabama at Birmingham  Birmingham    AL    0.6043   \n",
       "\n",
       "   undergrads   cost  compl_4  median_hh_inc  median_earnings  \n",
       "1       11269  22232   0.3173       55735.22            40200  "
      ]
     },
     "execution_count": 25,
     "metadata": {},
     "output_type": "execute_result"
    }
   ],
   "source": [
    "section_3_data.loc[1:1]"
   ]
  },
  {
   "cell_type": "code",
   "execution_count": 26,
   "metadata": {
    "executionInfo": {
     "elapsed": 14,
     "status": "ok",
     "timestamp": 1646848776505,
     "user": {
      "displayName": "Kelly Lu",
      "photoUrl": "https://lh3.googleusercontent.com/a-/AOh14GhBJOcWEOJSq7Sac1aULmBnym_h98gIkXWAKxFC=s64",
      "userId": "13804689239916936151"
     },
     "user_tz": 300
    },
    "id": "d3KdJRN2NAPn"
   },
   "outputs": [],
   "source": [
    "example_cost = 22232\n",
    "example_admission_rate = 0.6043"
   ]
  },
  {
   "cell_type": "code",
   "execution_count": 27,
   "metadata": {
    "colab": {
     "base_uri": "https://localhost:8080/"
    },
    "executionInfo": {
     "elapsed": 13,
     "status": "ok",
     "timestamp": 1646848776505,
     "user": {
      "displayName": "Kelly Lu",
      "photoUrl": "https://lh3.googleusercontent.com/a-/AOh14GhBJOcWEOJSq7Sac1aULmBnym_h98gIkXWAKxFC=s64",
      "userId": "13804689239916936151"
     },
     "user_tz": 300
    },
    "id": "Jex8E8wCNAPo",
    "outputId": "4a1f821a-babf-49bd-8036-a1da534fde5f"
   },
   "outputs": [
    {
     "name": "stdout",
     "output_type": "stream",
     "text": [
      "38745.240382799544\n"
     ]
    }
   ],
   "source": [
    "B1 = model.coef_[0]\n",
    "B2 = model.coef_[1]\n",
    "k = model.intercept_\n",
    "manually_predicted_median_earnings = B1 * example_cost + B2 * example_admission_rate + k\n",
    "print(manually_predicted_median_earnings)"
   ]
  },
  {
   "cell_type": "code",
   "execution_count": 28,
   "metadata": {
    "colab": {
     "base_uri": "https://localhost:8080/"
    },
    "executionInfo": {
     "elapsed": 12,
     "status": "ok",
     "timestamp": 1646848776505,
     "user": {
      "displayName": "Kelly Lu",
      "photoUrl": "https://lh3.googleusercontent.com/a-/AOh14GhBJOcWEOJSq7Sac1aULmBnym_h98gIkXWAKxFC=s64",
      "userId": "13804689239916936151"
     },
     "user_tz": 300
    },
    "id": "G5GP_f3NNAPo",
    "outputId": "ccfd7a7e-06ac-4ea4-d115-c25e5fb171f2"
   },
   "outputs": [
    {
     "data": {
      "text/plain": [
       "38745.240382799544"
      ]
     },
     "execution_count": 28,
     "metadata": {},
     "output_type": "execute_result"
    }
   ],
   "source": [
    "model.predict([[example_cost,example_admission_rate]])[0]"
   ]
  },
  {
   "cell_type": "markdown",
   "metadata": {
    "id": "bRL2Im0kNAPo"
   },
   "source": [
    "The two results were the same. From this, we can conclude that `model.predict` is really just outputting $B_1*x_1 + B_2*x_2 + k$.\n",
    "\n",
    "(When we look at other algorithms in later lectures, the equation will be different. However, the general idea is the same: `model.fit` created an equation, and `model.predict` uses that equation)"
   ]
  },
  {
   "cell_type": "markdown",
   "metadata": {
    "id": "KgG5y0s8NAPo"
   },
   "source": [
    "### Summary\n",
    "Our `model` is an object. When we train it (by calling `model.fit`), we're setting its parameters (for example, $B_1$, $B_2$, and k). When we predict (by calling `model.predict(new_data)`), `model` is applying a function to each row of `new_data` in order to get a prediction.\n",
    "\n",
    "\n",
    "### What we still don't know\n",
    "\n",
    "How do we increase the model's score (how do we make our model better)?"
   ]
  },
  {
   "cell_type": "markdown",
   "metadata": {
    "id": "yEWnrQAaNAPo"
   },
   "source": [
    "## Problem 2\n",
    "\n",
    "Use 'cost' and 'compl_4' to predict 'median_earnings'.\n",
    "\n",
    "Use a train test split of 25% as a test set (not 20%, which all the previous examples used).\n",
    "\n",
    "Print out the median_earnings predicted for the test set. Also print out the model's score."
   ]
  },
  {
   "cell_type": "code",
   "execution_count": 27,
   "metadata": {
    "executionInfo": {
     "elapsed": 11,
     "status": "ok",
     "timestamp": 1646848776505,
     "user": {
      "displayName": "Kelly Lu",
      "photoUrl": "https://lh3.googleusercontent.com/a-/AOh14GhBJOcWEOJSq7Sac1aULmBnym_h98gIkXWAKxFC=s64",
      "userId": "13804689239916936151"
     },
     "user_tz": 300
    },
    "id": "SVGTfppoNAPp"
   },
   "outputs": [],
   "source": [
    "problem_2_data = original_data.copy()"
   ]
  },
  {
   "cell_type": "code",
   "execution_count": 37,
   "metadata": {
    "executionInfo": {
     "elapsed": 11,
     "status": "ok",
     "timestamp": 1646848776505,
     "user": {
      "displayName": "Kelly Lu",
      "photoUrl": "https://lh3.googleusercontent.com/a-/AOh14GhBJOcWEOJSq7Sac1aULmBnym_h98gIkXWAKxFC=s64",
      "userId": "13804689239916936151"
     },
     "user_tz": 300
    },
    "id": "C27DAGPmNAPp"
   },
   "outputs": [
    {
     "name": "stdout",
     "output_type": "stream",
     "text": [
      "Score: 0.2717041577530156\n"
     ]
    }
   ],
   "source": [
    "x = problem_2_data[['cost', 'compl_4']]\n",
    "y = problem_2_data['median_earnings']\n",
    "\n",
    "x_train, x_test, y_train, y_test = train_test_split(x, y, test_size=0.25, random_state=42)\n",
    "\n",
    "model = LinearRegression()\n",
    "\n",
    "model.fit(x_train, y_train)\n",
    "\n",
    "model.predict(x_test)\n",
    "\n",
    "print(\"Score:\", model.score(x_test, y_test))"
   ]
  },
  {
   "cell_type": "markdown",
   "metadata": {
    "id": "XH7sULOxNAPp"
   },
   "source": [
    "# Section 4: Validation and Testing"
   ]
  },
  {
   "cell_type": "code",
   "execution_count": 35,
   "metadata": {
    "executionInfo": {
     "elapsed": 11,
     "status": "ok",
     "timestamp": 1646848776505,
     "user": {
      "displayName": "Kelly Lu",
      "photoUrl": "https://lh3.googleusercontent.com/a-/AOh14GhBJOcWEOJSq7Sac1aULmBnym_h98gIkXWAKxFC=s64",
      "userId": "13804689239916936151"
     },
     "user_tz": 300
    },
    "id": "Nr2GQA6FNAPp"
   },
   "outputs": [],
   "source": [
    "section_4_data = original_data.copy()"
   ]
  },
  {
   "cell_type": "code",
   "execution_count": 36,
   "metadata": {
    "colab": {
     "base_uri": "https://localhost:8080/"
    },
    "executionInfo": {
     "elapsed": 630,
     "status": "ok",
     "timestamp": 1646848777124,
     "user": {
      "displayName": "Kelly Lu",
      "photoUrl": "https://lh3.googleusercontent.com/a-/AOh14GhBJOcWEOJSq7Sac1aULmBnym_h98gIkXWAKxFC=s64",
      "userId": "13804689239916936151"
     },
     "user_tz": 300
    },
    "id": "FUSySPoSNAPp",
    "outputId": "bf9a6a00-67ae-4b61-f5ec-2a9f502c3d03"
   },
   "outputs": [
    {
     "name": "stdout",
     "output_type": "stream",
     "text": [
      "training score: 0.7699638512812974\n",
      "validation score: -159688147188.85333\n"
     ]
    }
   ],
   "source": [
    "X = section_4_data.drop([\"name\",\"median_earnings\"], axis=1) # use all columns except name and median_earnings\n",
    "X = pd.get_dummies(X) # transform categorical columns so we can use them in linear regression\n",
    "Y = section_4_data[\"median_earnings\"]\n",
    "\n",
    "x_train, x_test, y_train, y_test = train_test_split(X, Y, test_size=0.2, random_state=42)\n",
    "\n",
    "model = LinearRegression()\n",
    "model.fit(x_train, y_train) # train on train set\n",
    "\n",
    "print(\"training score:\", model.score(x_train,y_train)) # how accurately did model capture training set relationship?\n",
    "print(\"validation score:\", model.score(x_test,y_test)) # how well can model predict new things?"
   ]
  },
  {
   "cell_type": "markdown",
   "metadata": {
    "id": "xN-U--qdNAPp"
   },
   "source": [
    "## Problem 3\n",
    "\n",
    "### Replace the 'None' values below with appropriate values to create a train-validate-test split."
   ]
  },
  {
   "cell_type": "code",
   "execution_count": 47,
   "metadata": {
    "colab": {
     "base_uri": "https://localhost:8080/",
     "height": 407
    },
    "executionInfo": {
     "elapsed": 261,
     "status": "error",
     "timestamp": 1646848777377,
     "user": {
      "displayName": "Kelly Lu",
      "photoUrl": "https://lh3.googleusercontent.com/a-/AOh14GhBJOcWEOJSq7Sac1aULmBnym_h98gIkXWAKxFC=s64",
      "userId": "13804689239916936151"
     },
     "user_tz": 300
    },
    "id": "uCTW5jwYNAPq",
    "outputId": "040bc232-f315-45e7-91e2-41785196872a",
    "scrolled": true
   },
   "outputs": [
    {
     "name": "stdout",
     "output_type": "stream",
     "text": [
      "training score: 0.2679998036539285\n",
      "validation score: 0.23997691090153994\n"
     ]
    }
   ],
   "source": [
    "problem_3_data = original_data.copy()\n",
    "X = problem_3_data[[\"cost\", \"compl_4\"]] # TODO\n",
    "Y = problem_3_data[\"median_earnings\"]\n",
    "x_not_test, x_test, y_not_test, y_test = train_test_split(X, Y, test_size=0.2, random_state=42) # TODO\n",
    "x_train, x_valid, y_train, y_valid = train_test_split(x_not_test, y_not_test, test_size=0.2, random_state=42) # TODO\n",
    "\n",
    "model = LinearRegression()\n",
    "\n",
    "# training\n",
    "model.fit(x_train, y_train) # TODO\n",
    "\n",
    "print(\"training score:\", model.score(x_train,y_train))\n",
    "print(\"validation score:\", model.score(x_valid,y_valid))"
   ]
  },
  {
   "cell_type": "code",
   "execution_count": 48,
   "metadata": {
    "executionInfo": {
     "elapsed": 255,
     "status": "aborted",
     "timestamp": 1646848777374,
     "user": {
      "displayName": "Kelly Lu",
      "photoUrl": "https://lh3.googleusercontent.com/a-/AOh14GhBJOcWEOJSq7Sac1aULmBnym_h98gIkXWAKxFC=s64",
      "userId": "13804689239916936151"
     },
     "user_tz": 300
    },
    "id": "dJV61VnGNAPq"
   },
   "outputs": [
    {
     "name": "stdout",
     "output_type": "stream",
     "text": [
      "testing score: 0.27886392799766724\n"
     ]
    }
   ],
   "source": [
    "print(\"testing score:\", model.score(x_test,y_test))"
   ]
  },
  {
   "cell_type": "markdown",
   "metadata": {
    "id": "UwKtQS0tNAPq"
   },
   "source": [
    "## Problem 4\n",
    "\n",
    "Use 'median_earnings' to predict 'median_earnings'.\n",
    "\n",
    "Remember to create a train-test split (use whatever percentage of test set you want).\n",
    "\n",
    "Print out the coefficients. Print out the model's score. Briefly explain why you got the coefficients and accuracy that you got."
   ]
  },
  {
   "cell_type": "code",
   "execution_count": 49,
   "metadata": {
    "executionInfo": {
     "elapsed": 255,
     "status": "aborted",
     "timestamp": 1646848777374,
     "user": {
      "displayName": "Kelly Lu",
      "photoUrl": "https://lh3.googleusercontent.com/a-/AOh14GhBJOcWEOJSq7Sac1aULmBnym_h98gIkXWAKxFC=s64",
      "userId": "13804689239916936151"
     },
     "user_tz": 300
    },
    "id": "kwLmFeUINAPr"
   },
   "outputs": [],
   "source": [
    "problem_4_data = original_data.copy()"
   ]
  },
  {
   "cell_type": "code",
   "execution_count": 51,
   "metadata": {
    "executionInfo": {
     "elapsed": 255,
     "status": "aborted",
     "timestamp": 1646848777374,
     "user": {
      "displayName": "Kelly Lu",
      "photoUrl": "https://lh3.googleusercontent.com/a-/AOh14GhBJOcWEOJSq7Sac1aULmBnym_h98gIkXWAKxFC=s64",
      "userId": "13804689239916936151"
     },
     "user_tz": 300
    },
    "id": "Vkrus9DDNAPr"
   },
   "outputs": [
    {
     "data": {
      "text/plain": [
       "array([36200., 42700., 42500., 42800., 35200., 45800., 49200., 31100.,\n",
       "       43900., 21400., 39700., 39000., 53400., 54800., 34100., 34500.,\n",
       "       48700., 56600., 39000., 45400., 38800., 42100., 61700., 53500.,\n",
       "       35200., 42600., 36200., 49000., 45200., 26000., 53600., 53400.,\n",
       "       37100., 54700., 47700., 35800., 39200., 42500., 44200., 27200.,\n",
       "       39900., 62400., 42800., 47300., 27200., 37700., 47800., 40200.,\n",
       "       30100., 44400., 47600., 43900., 17100., 32200., 50700., 43800.,\n",
       "       34700., 34000., 36800., 40700., 58100., 35400., 60700., 36700.,\n",
       "       60500., 43600., 43900., 39000., 39400., 38200., 24400., 33200.,\n",
       "       38400., 54400., 37900., 36500., 44500., 31800., 48100., 37800.,\n",
       "       44700., 49800., 42700., 32600., 47900., 50300., 36200., 42400.,\n",
       "       31300., 47100., 40800., 46200., 48500., 36800., 55100., 45100.,\n",
       "       53700., 50700., 19100., 35300., 47400., 45400., 56100., 35100.,\n",
       "       34600., 63200., 55600., 45100., 43600., 34500., 24300., 46700.,\n",
       "       46800., 45000., 53400., 45900., 39400., 41900., 34300., 38700.,\n",
       "       43300., 43300., 47800., 47200., 46200., 42400., 51000., 50800.,\n",
       "       48500., 36600., 61100., 45200., 46000., 36000., 42800., 54100.,\n",
       "       42200., 31300., 51100., 34600., 34400., 35600., 33500., 38300.,\n",
       "       37500., 62400., 47900., 38100., 31600., 38800., 32100., 41200.,\n",
       "       49300., 39500., 53700., 39900., 49100., 56400., 36300., 22700.,\n",
       "       91800., 35600., 49000., 46600., 49600., 57500., 18900., 49900.,\n",
       "       37600., 35300., 41800., 84000., 73600., 35700., 28400., 38600.,\n",
       "       36900., 46800., 34900., 39200., 29100., 40200., 32400., 33700.,\n",
       "       55500., 52000., 54900., 40200., 33400., 39400., 38800., 40500.,\n",
       "       41200., 46100., 56300., 42100., 34300., 41100., 46100., 69800.,\n",
       "       35900., 30700., 35000., 46800., 39500., 42800., 35100., 29700.,\n",
       "       46700., 31100., 47000., 58700., 38500., 40300., 28200., 29400.,\n",
       "       48400., 44500., 37300., 38000., 42000., 46700., 32500., 49100.,\n",
       "       53000., 49300., 49100., 34800., 45300., 58400., 50500., 47100.,\n",
       "       46100., 33600., 43800., 55300., 33000., 39500., 36100., 77900.,\n",
       "       36800., 74200., 32100., 41000., 42300., 31000., 71600., 53300.,\n",
       "       32800., 41200., 48100., 43000., 45500., 30100., 44200., 17400.,\n",
       "       43500., 48300., 55600., 41600., 47900., 50200., 46400., 40400.,\n",
       "       37200., 51600., 34900., 66500., 25400., 33100., 55100., 39200.,\n",
       "       55600., 36000., 29600., 38900., 39200., 41600., 42400., 51700.,\n",
       "       35500., 36300., 37800., 37300., 23900., 36700., 90100., 55500.,\n",
       "       63100., 63100., 37100., 42400., 43100., 40200., 40200., 43700.,\n",
       "       49200., 42100., 44000., 33800., 52200., 28000., 44400., 31500.,\n",
       "       35000., 38200., 43700., 37200., 18200., 57600., 46700., 54200.,\n",
       "       40400., 41900., 33800., 37800., 53300., 42100., 31000., 39400.,\n",
       "       42200., 38900., 48000., 37300., 43200., 31500., 31500., 43300.,\n",
       "       85700., 43100., 46400., 51400., 42600., 27200., 37100., 30800.,\n",
       "       19100., 39100., 36600., 65900., 42000., 41700., 34100., 43500.,\n",
       "       40300., 37600., 43200., 52500., 43300., 38800., 36600., 39200.,\n",
       "       44300., 40300., 39400., 47300., 67400., 39500., 36900., 38600.,\n",
       "       57300., 27100., 45100., 46400., 39100., 43200., 37200., 41400.,\n",
       "       50900., 40300., 27700., 48300., 37400., 37700., 50300., 38800.,\n",
       "       37500., 33800., 36200., 19100., 29300., 43400., 54800., 44900.,\n",
       "       41600., 42200., 43500., 36700., 39300., 39900., 46800., 57400.,\n",
       "       43300., 32900., 43000., 37100.])"
      ]
     },
     "execution_count": 51,
     "metadata": {},
     "output_type": "execute_result"
    }
   ],
   "source": [
    "# split data and create model\n",
    "x = problem_2_data[['median_earnings']]\n",
    "y = problem_2_data['median_earnings']\n",
    "\n",
    "x_train, x_test, y_train, y_test = train_test_split(x, y, test_size=0.25, random_state=42)\n",
    "\n",
    "model = LinearRegression()\n",
    "\n",
    "model.fit(x_train, y_train)\n",
    "\n",
    "model.predict(x_test)"
   ]
  },
  {
   "cell_type": "code",
   "execution_count": 52,
   "metadata": {
    "executionInfo": {
     "elapsed": 255,
     "status": "aborted",
     "timestamp": 1646848777374,
     "user": {
      "displayName": "Kelly Lu",
      "photoUrl": "https://lh3.googleusercontent.com/a-/AOh14GhBJOcWEOJSq7Sac1aULmBnym_h98gIkXWAKxFC=s64",
      "userId": "13804689239916936151"
     },
     "user_tz": 300
    },
    "id": "A1fZCPZrNAPr"
   },
   "outputs": [
    {
     "name": "stdout",
     "output_type": "stream",
     "text": [
      "[1.]\n",
      "Score: 1.0\n"
     ]
    }
   ],
   "source": [
    "# print out coefficient and score\n",
    "\n",
    "print(model.coef_)\n",
    "print(\"Score:\", model.score(x_test, y_test))"
   ]
  },
  {
   "cell_type": "markdown",
   "metadata": {
    "id": "rNi_YG_wNAPr"
   },
   "source": [
    "#### Briefly explain why you got the coefficients and score that you got. \n",
    "\n",
    "Both the coefficients and score are 1. Score is a measure of how accurate the predictions are, so when predicting a set of data with the same set of data, it makes sense that the score is 1. "
   ]
  },
  {
   "cell_type": "markdown",
   "metadata": {
    "id": "4EVkVjxHNAPr"
   },
   "source": [
    "## Problem 5 (optional)\n",
    "\n",
    "Linear regression does well with variables that are correlated. Look up how to print out the correlation matrix of a pandas dataframe.\n",
    "\n",
    "Looking at the correlation matrix, pick at least 3 features that have a low (between -0.5 and 0.5) correlation with median_earnings and plot scatterplots of each of them against median_earnings.\n",
    "Using these scatterplot, pick one of the features and try a few transformations that might increase its correlation with median_earnings. That is, create new features (columns) and see what their correlation with median_earnings is.\n",
    "\n",
    "Create a model using one of these new features, as well as other features that are well correlated with median_earnings, as features. Print out the score."
   ]
  },
  {
   "cell_type": "code",
   "execution_count": null,
   "metadata": {
    "executionInfo": {
     "elapsed": 256,
     "status": "aborted",
     "timestamp": 1646848777375,
     "user": {
      "displayName": "Kelly Lu",
      "photoUrl": "https://lh3.googleusercontent.com/a-/AOh14GhBJOcWEOJSq7Sac1aULmBnym_h98gIkXWAKxFC=s64",
      "userId": "13804689239916936151"
     },
     "user_tz": 300
    },
    "id": "ymdrLA3XNAPr"
   },
   "outputs": [],
   "source": [
    "problem_5_data = original_data.copy()"
   ]
  },
  {
   "cell_type": "code",
   "execution_count": null,
   "metadata": {
    "executionInfo": {
     "elapsed": 256,
     "status": "aborted",
     "timestamp": 1646848777375,
     "user": {
      "displayName": "Kelly Lu",
      "photoUrl": "https://lh3.googleusercontent.com/a-/AOh14GhBJOcWEOJSq7Sac1aULmBnym_h98gIkXWAKxFC=s64",
      "userId": "13804689239916936151"
     },
     "user_tz": 300
    },
    "id": "87XZ8LHuNAPr"
   },
   "outputs": [],
   "source": [
    "# print out correlation matrix"
   ]
  },
  {
   "cell_type": "code",
   "execution_count": null,
   "metadata": {
    "executionInfo": {
     "elapsed": 256,
     "status": "aborted",
     "timestamp": 1646848777375,
     "user": {
      "displayName": "Kelly Lu",
      "photoUrl": "https://lh3.googleusercontent.com/a-/AOh14GhBJOcWEOJSq7Sac1aULmBnym_h98gIkXWAKxFC=s64",
      "userId": "13804689239916936151"
     },
     "user_tz": 300
    },
    "id": "zpeoTpw-NAPr"
   },
   "outputs": [],
   "source": [
    "# make scatter plots"
   ]
  },
  {
   "cell_type": "code",
   "execution_count": null,
   "metadata": {
    "executionInfo": {
     "elapsed": 256,
     "status": "aborted",
     "timestamp": 1646848777375,
     "user": {
      "displayName": "Kelly Lu",
      "photoUrl": "https://lh3.googleusercontent.com/a-/AOh14GhBJOcWEOJSq7Sac1aULmBnym_h98gIkXWAKxFC=s64",
      "userId": "13804689239916936151"
     },
     "user_tz": 300
    },
    "id": "GMMMA4ffNAPs"
   },
   "outputs": [],
   "source": []
  },
  {
   "cell_type": "code",
   "execution_count": null,
   "metadata": {
    "executionInfo": {
     "elapsed": 256,
     "status": "aborted",
     "timestamp": 1646848777375,
     "user": {
      "displayName": "Kelly Lu",
      "photoUrl": "https://lh3.googleusercontent.com/a-/AOh14GhBJOcWEOJSq7Sac1aULmBnym_h98gIkXWAKxFC=s64",
      "userId": "13804689239916936151"
     },
     "user_tz": 300
    },
    "id": "eihekHE_NAPs"
   },
   "outputs": [],
   "source": []
  },
  {
   "cell_type": "code",
   "execution_count": null,
   "metadata": {
    "executionInfo": {
     "elapsed": 256,
     "status": "aborted",
     "timestamp": 1646848777375,
     "user": {
      "displayName": "Kelly Lu",
      "photoUrl": "https://lh3.googleusercontent.com/a-/AOh14GhBJOcWEOJSq7Sac1aULmBnym_h98gIkXWAKxFC=s64",
      "userId": "13804689239916936151"
     },
     "user_tz": 300
    },
    "id": "ilLX3YmuNAPs"
   },
   "outputs": [],
   "source": []
  },
  {
   "cell_type": "code",
   "execution_count": null,
   "metadata": {
    "executionInfo": {
     "elapsed": 256,
     "status": "aborted",
     "timestamp": 1646848777375,
     "user": {
      "displayName": "Kelly Lu",
      "photoUrl": "https://lh3.googleusercontent.com/a-/AOh14GhBJOcWEOJSq7Sac1aULmBnym_h98gIkXWAKxFC=s64",
      "userId": "13804689239916936151"
     },
     "user_tz": 300
    },
    "id": "Qd3NwkGXNAPs"
   },
   "outputs": [],
   "source": [
    "# create new features"
   ]
  },
  {
   "cell_type": "code",
   "execution_count": null,
   "metadata": {
    "executionInfo": {
     "elapsed": 256,
     "status": "aborted",
     "timestamp": 1646848777376,
     "user": {
      "displayName": "Kelly Lu",
      "photoUrl": "https://lh3.googleusercontent.com/a-/AOh14GhBJOcWEOJSq7Sac1aULmBnym_h98gIkXWAKxFC=s64",
      "userId": "13804689239916936151"
     },
     "user_tz": 300
    },
    "id": "08XGo-1WNAPs"
   },
   "outputs": [],
   "source": []
  },
  {
   "cell_type": "code",
   "execution_count": null,
   "metadata": {
    "executionInfo": {
     "elapsed": 256,
     "status": "aborted",
     "timestamp": 1646848777376,
     "user": {
      "displayName": "Kelly Lu",
      "photoUrl": "https://lh3.googleusercontent.com/a-/AOh14GhBJOcWEOJSq7Sac1aULmBnym_h98gIkXWAKxFC=s64",
      "userId": "13804689239916936151"
     },
     "user_tz": 300
    },
    "id": "kieo6ORINAPs"
   },
   "outputs": [],
   "source": []
  },
  {
   "cell_type": "code",
   "execution_count": null,
   "metadata": {
    "executionInfo": {
     "elapsed": 256,
     "status": "aborted",
     "timestamp": 1646848777376,
     "user": {
      "displayName": "Kelly Lu",
      "photoUrl": "https://lh3.googleusercontent.com/a-/AOh14GhBJOcWEOJSq7Sac1aULmBnym_h98gIkXWAKxFC=s64",
      "userId": "13804689239916936151"
     },
     "user_tz": 300
    },
    "id": "SuVJvWyTNAPs"
   },
   "outputs": [],
   "source": []
  },
  {
   "cell_type": "code",
   "execution_count": null,
   "metadata": {
    "executionInfo": {
     "elapsed": 6,
     "status": "aborted",
     "timestamp": 1646848777376,
     "user": {
      "displayName": "Kelly Lu",
      "photoUrl": "https://lh3.googleusercontent.com/a-/AOh14GhBJOcWEOJSq7Sac1aULmBnym_h98gIkXWAKxFC=s64",
      "userId": "13804689239916936151"
     },
     "user_tz": 300
    },
    "id": "_547h7BdNAPs"
   },
   "outputs": [],
   "source": [
    "# create model"
   ]
  },
  {
   "cell_type": "code",
   "execution_count": null,
   "metadata": {
    "executionInfo": {
     "elapsed": 6,
     "status": "aborted",
     "timestamp": 1646848777376,
     "user": {
      "displayName": "Kelly Lu",
      "photoUrl": "https://lh3.googleusercontent.com/a-/AOh14GhBJOcWEOJSq7Sac1aULmBnym_h98gIkXWAKxFC=s64",
      "userId": "13804689239916936151"
     },
     "user_tz": 300
    },
    "id": "yLTO1xabNAPt"
   },
   "outputs": [],
   "source": []
  },
  {
   "cell_type": "code",
   "execution_count": null,
   "metadata": {
    "executionInfo": {
     "elapsed": 6,
     "status": "aborted",
     "timestamp": 1646848777376,
     "user": {
      "displayName": "Kelly Lu",
      "photoUrl": "https://lh3.googleusercontent.com/a-/AOh14GhBJOcWEOJSq7Sac1aULmBnym_h98gIkXWAKxFC=s64",
      "userId": "13804689239916936151"
     },
     "user_tz": 300
    },
    "id": "58Q8JkDSNAPt"
   },
   "outputs": [],
   "source": [
    "# get score"
   ]
  },
  {
   "cell_type": "code",
   "execution_count": null,
   "metadata": {
    "executionInfo": {
     "elapsed": 6,
     "status": "aborted",
     "timestamp": 1646848777376,
     "user": {
      "displayName": "Kelly Lu",
      "photoUrl": "https://lh3.googleusercontent.com/a-/AOh14GhBJOcWEOJSq7Sac1aULmBnym_h98gIkXWAKxFC=s64",
      "userId": "13804689239916936151"
     },
     "user_tz": 300
    },
    "id": "vlBa1nZ5NAPt"
   },
   "outputs": [],
   "source": []
  }
 ],
 "metadata": {
  "colab": {
   "collapsed_sections": [
    "BvW0xh21NAPl",
    "NaEbSYFENAPm",
    "KgG5y0s8NAPo",
    "yEWnrQAaNAPo",
    "xN-U--qdNAPp",
    "UwKtQS0tNAPq",
    "rNi_YG_wNAPr",
    "4EVkVjxHNAPr"
   ],
   "name": "lec4_release.ipynb",
   "provenance": []
  },
  "kernelspec": {
   "display_name": "Python 3",
   "language": "python",
   "name": "python3"
  },
  "language_info": {
   "codemirror_mode": {
    "name": "ipython",
    "version": 3
   },
   "file_extension": ".py",
   "mimetype": "text/x-python",
   "name": "python",
   "nbconvert_exporter": "python",
   "pygments_lexer": "ipython3",
   "version": "3.8.8"
  },
  "notebookId": "^EG=G=bpDp\\gp"
 },
 "nbformat": 4,
 "nbformat_minor": 1
}
