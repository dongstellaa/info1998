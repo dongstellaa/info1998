{
 "cells": [
  {
   "cell_type": "markdown",
   "id": "ff1a78dd",
   "metadata": {},
   "source": []
  },
  {
   "cell_type": "markdown",
   "id": "e20f69e9",
   "metadata": {},
   "source": [
    "## INFO 1998 Final Project"
   ]
  },
  {
   "cell_type": "markdown",
   "id": "f299e531",
   "metadata": {},
   "source": [
    "### Abdul Cherchar, Mohamed Cherchar, Tyler Dale, Stella Dong"
   ]
  },
  {
   "cell_type": "markdown",
   "id": "98c5f725",
   "metadata": {},
   "source": [
    "### __Introduction__\n",
    "This project uses data on Ukraine’s airspace to analyze and hopefully predict patterns of Russia’s military presence in an attempt to aid civilians and the Ukrainian government in preparation for Russian airstrikes. \n",
    "\n",
    "We will use the knowledge gained from INFO 1998 to: process and visualize datasets, find trends, and apply machine learning models to gain insight on the patterns in Ukraine’s airspace. Using known knowledge on the altitudes and velocities of these planes, we can make assumptions about what kind of plane is flying, if they pose any danger to the civilians, and what time they fly. \n",
    "\n",
    "Source: \n",
    "https://www.kaggle.com/datasets/rtwillett/ukrainian-airspace\n"
   ]
  },
  {
   "cell_type": "code",
   "execution_count": 2,
   "id": "9a058d61",
   "metadata": {},
   "outputs": [],
   "source": [
    "#Import Necessary Projects\n",
    "import numpy as np\n",
    "import pandas as pd\n",
    "import matplotlib.pyplot as plt\n",
    "import seaborn as sns\n",
    "from sklearn.preprocessing import StandardScaler\n",
    "from scipy.cluster.hierarchy import dendrogram, linkage\n",
    "from matplotlib import pyplot as plt\n",
    "from sklearn.metrics import accuracy_score\n",
    "from sklearn.model_selection import train_test_split\n",
    "from sklearn.linear_model import LogisticRegression\n",
    "from sklearn.metrics import confusion_matrix\n",
    "from sklearn.neighbors import KNeighborsClassifier\n",
    "from sklearn import preprocessing\n",
    "from sklearn.tree import DecisionTreeClassifier\n",
    "from sklearn.ensemble import RandomForestClassifier"
   ]
  },
  {
   "cell_type": "markdown",
   "id": "f80f8fde",
   "metadata": {},
   "source": [
    "### __Dataset & Data Processing__\n",
    "This dataset has 17 features and has 3449233 entries. (The dataset did not include the column names so we inputted them from Kaggle). Because we specifically chose a dataset with a usability of 10 from Kaggle, we did not encounter any unusable data, like NaN entries.\n",
    "\n",
    "We removed ‘ICAO 24-bit code’, ‘callsign’, ‘last contact time’, ‘longitude’, ‘latitude’, ‘heading’, ‘vertical rate’, ‘sensors’, ‘geo altitude’, ‘squawk’, ‘spi’, and ‘position source’ to make the data frame easier to read and to only include data relevant to our analysis. We are filtering the data frame to only include entries where ‘origin country’ is from ‘Russian Federation’ because it is the focus of our project and because of the size of our dataset, it’s not feasible to loop through each entry so we filtered the dataset instead of removing the other values from the dataset. For our visualization and machine learning models, we also found it to be beneficial if we added the column ‘hours_int’ that sliced the string from ‘time’ and converted it to an int, so the value could more easily be compared and used.\n"
   ]
  },
  {
   "cell_type": "code",
   "execution_count": 3,
   "id": "95c5cfcd",
   "metadata": {},
   "outputs": [
    {
     "name": "stdout",
     "output_type": "stream",
     "text": [
      "<class 'pandas.core.frame.DataFrame'>\n",
      "RangeIndex: 9086717 entries, 0 to 9086716\n",
      "Data columns (total 5 columns):\n",
      " #   Column                     Dtype  \n",
      "---  ------                     -----  \n",
      " 0   origin country             object \n",
      " 1   time                       object \n",
      " 2   barometic altitude         float64\n",
      " 3   Aircraft is on the ground  bool   \n",
      " 4   velocity                   float64\n",
      "dtypes: bool(1), float64(2), object(2)\n",
      "memory usage: 286.0+ MB\n"
     ]
    },
    {
     "data": {
      "text/html": [
       "<div>\n",
       "<style scoped>\n",
       "    .dataframe tbody tr th:only-of-type {\n",
       "        vertical-align: middle;\n",
       "    }\n",
       "\n",
       "    .dataframe tbody tr th {\n",
       "        vertical-align: top;\n",
       "    }\n",
       "\n",
       "    .dataframe thead th {\n",
       "        text-align: right;\n",
       "    }\n",
       "</style>\n",
       "<table border=\"1\" class=\"dataframe\">\n",
       "  <thead>\n",
       "    <tr style=\"text-align: right;\">\n",
       "      <th></th>\n",
       "      <th>origin country</th>\n",
       "      <th>time</th>\n",
       "      <th>barometic altitude</th>\n",
       "      <th>Aircraft is on the ground</th>\n",
       "      <th>velocity</th>\n",
       "    </tr>\n",
       "  </thead>\n",
       "  <tbody>\n",
       "    <tr>\n",
       "      <th>0</th>\n",
       "      <td>United Kingdom</td>\n",
       "      <td>2022-02-22 15:28:36</td>\n",
       "      <td>891.54</td>\n",
       "      <td>False</td>\n",
       "      <td>85.05</td>\n",
       "    </tr>\n",
       "    <tr>\n",
       "      <th>1</th>\n",
       "      <td>Hungary</td>\n",
       "      <td>2022-02-22 15:28:28</td>\n",
       "      <td>10668.00</td>\n",
       "      <td>False</td>\n",
       "      <td>231.00</td>\n",
       "    </tr>\n",
       "    <tr>\n",
       "      <th>2</th>\n",
       "      <td>Hungary</td>\n",
       "      <td>2022-02-22 15:28:34</td>\n",
       "      <td>8557.26</td>\n",
       "      <td>False</td>\n",
       "      <td>221.14</td>\n",
       "    </tr>\n",
       "    <tr>\n",
       "      <th>3</th>\n",
       "      <td>United Kingdom</td>\n",
       "      <td>2022-02-22 15:28:35</td>\n",
       "      <td>11277.60</td>\n",
       "      <td>False</td>\n",
       "      <td>264.11</td>\n",
       "    </tr>\n",
       "    <tr>\n",
       "      <th>4</th>\n",
       "      <td>Hungary</td>\n",
       "      <td>2022-02-22 15:28:35</td>\n",
       "      <td>11285.22</td>\n",
       "      <td>False</td>\n",
       "      <td>232.25</td>\n",
       "    </tr>\n",
       "  </tbody>\n",
       "</table>\n",
       "</div>"
      ],
      "text/plain": [
       "   origin country                 time  barometic altitude  \\\n",
       "0  United Kingdom  2022-02-22 15:28:36              891.54   \n",
       "1         Hungary  2022-02-22 15:28:28            10668.00   \n",
       "2         Hungary  2022-02-22 15:28:34             8557.26   \n",
       "3  United Kingdom  2022-02-22 15:28:35            11277.60   \n",
       "4         Hungary  2022-02-22 15:28:35            11285.22   \n",
       "\n",
       "   Aircraft is on the ground  velocity  \n",
       "0                      False     85.05  \n",
       "1                      False    231.00  \n",
       "2                      False    221.14  \n",
       "3                      False    264.11  \n",
       "4                      False    232.25  "
      ]
     },
     "execution_count": 3,
     "metadata": {},
     "output_type": "execute_result"
    }
   ],
   "source": [
    "#import data set and remove unnecessary columns\n",
    "\n",
    "df = pd.read_csv('ukraineflights.csv')\n",
    "df.columns = ['ICAO 24-bit code', 'callsign', 'origin country', 'time', 'last contact time', 'longitude', 'latitude', 'barometic altitude', 'Aircraft is on the ground', 'velocity', 'heading', 'verticalrate', 'sensors', 'geoaltitude', 'squawk', 'spi', 'position source']\n",
    "df.drop('ICAO 24-bit code', inplace = True, axis = 1)\n",
    "df.drop('callsign', inplace = True, axis = 1)\n",
    "df.drop('last contact time', inplace = True, axis = 1)\n",
    "df.drop('longitude', inplace = True, axis = 1)\n",
    "df.drop('latitude', inplace = True, axis = 1)\n",
    "df.drop('heading', inplace = True, axis = 1)\n",
    "df.drop('verticalrate', inplace = True, axis = 1)\n",
    "df.drop('sensors', inplace = True, axis = 1)\n",
    "df.drop('geoaltitude', inplace = True, axis = 1)\n",
    "df.drop('squawk', inplace = True, axis = 1)\n",
    "df.drop('spi', inplace = True, axis = 1)\n",
    "df.drop('position source', inplace = True, axis = 1)\n",
    "df.info()\n",
    "df.head()"
   ]
  },
  {
   "cell_type": "code",
   "execution_count": 4,
   "id": "79f322cf",
   "metadata": {},
   "outputs": [
    {
     "data": {
      "text/html": [
       "<div>\n",
       "<style scoped>\n",
       "    .dataframe tbody tr th:only-of-type {\n",
       "        vertical-align: middle;\n",
       "    }\n",
       "\n",
       "    .dataframe tbody tr th {\n",
       "        vertical-align: top;\n",
       "    }\n",
       "\n",
       "    .dataframe thead th {\n",
       "        text-align: right;\n",
       "    }\n",
       "</style>\n",
       "<table border=\"1\" class=\"dataframe\">\n",
       "  <thead>\n",
       "    <tr style=\"text-align: right;\">\n",
       "      <th></th>\n",
       "      <th>origin country</th>\n",
       "      <th>time</th>\n",
       "      <th>barometic altitude</th>\n",
       "      <th>Aircraft is on the ground</th>\n",
       "      <th>velocity</th>\n",
       "      <th>hour_str</th>\n",
       "      <th>hour_int</th>\n",
       "    </tr>\n",
       "  </thead>\n",
       "  <tbody>\n",
       "    <tr>\n",
       "      <th>88</th>\n",
       "      <td>Russian Federation</td>\n",
       "      <td>2022-02-22 15:27:48</td>\n",
       "      <td>1234.44</td>\n",
       "      <td>False</td>\n",
       "      <td>132.36</td>\n",
       "      <td>15</td>\n",
       "      <td>15</td>\n",
       "    </tr>\n",
       "    <tr>\n",
       "      <th>133</th>\n",
       "      <td>Russian Federation</td>\n",
       "      <td>2022-02-22 15:28:35</td>\n",
       "      <td>708.66</td>\n",
       "      <td>False</td>\n",
       "      <td>62.27</td>\n",
       "      <td>15</td>\n",
       "      <td>15</td>\n",
       "    </tr>\n",
       "    <tr>\n",
       "      <th>165</th>\n",
       "      <td>Russian Federation</td>\n",
       "      <td>2022-02-22 15:28:36</td>\n",
       "      <td>10058.40</td>\n",
       "      <td>False</td>\n",
       "      <td>257.23</td>\n",
       "      <td>15</td>\n",
       "      <td>15</td>\n",
       "    </tr>\n",
       "    <tr>\n",
       "      <th>169</th>\n",
       "      <td>Russian Federation</td>\n",
       "      <td>2022-02-22 15:24:09</td>\n",
       "      <td>10972.80</td>\n",
       "      <td>False</td>\n",
       "      <td>223.27</td>\n",
       "      <td>15</td>\n",
       "      <td>15</td>\n",
       "    </tr>\n",
       "    <tr>\n",
       "      <th>293</th>\n",
       "      <td>Russian Federation</td>\n",
       "      <td>2022-02-22 15:29:41</td>\n",
       "      <td>1074.42</td>\n",
       "      <td>False</td>\n",
       "      <td>115.40</td>\n",
       "      <td>15</td>\n",
       "      <td>15</td>\n",
       "    </tr>\n",
       "  </tbody>\n",
       "</table>\n",
       "</div>"
      ],
      "text/plain": [
       "         origin country                 time  barometic altitude  \\\n",
       "88   Russian Federation  2022-02-22 15:27:48             1234.44   \n",
       "133  Russian Federation  2022-02-22 15:28:35              708.66   \n",
       "165  Russian Federation  2022-02-22 15:28:36            10058.40   \n",
       "169  Russian Federation  2022-02-22 15:24:09            10972.80   \n",
       "293  Russian Federation  2022-02-22 15:29:41             1074.42   \n",
       "\n",
       "     Aircraft is on the ground  velocity hour_str  hour_int  \n",
       "88                       False    132.36       15        15  \n",
       "133                      False     62.27       15        15  \n",
       "165                      False    257.23       15        15  \n",
       "169                      False    223.27       15        15  \n",
       "293                      False    115.40       15        15  "
      ]
     },
     "execution_count": 4,
     "metadata": {},
     "output_type": "execute_result"
    }
   ],
   "source": [
    "#filtering 'Russian Federation'\n",
    "filter = df['origin country'].isin(['Russian Federation'])\n",
    "\n",
    "#slicing 'time' and converting string to int\n",
    "df['hour_str'] = df['time'].str[11:13]\n",
    "df['hour_int'] = df['hour_str'].astype(int)\n",
    "df[filter].head()"
   ]
  },
  {
   "cell_type": "markdown",
   "id": "b42cb7c2",
   "metadata": {},
   "source": [
    "### __Data Visualization__\n"
   ]
  },
  {
   "cell_type": "code",
   "execution_count": 6,
   "id": "e07917a2",
   "metadata": {},
   "outputs": [
    {
     "name": "stderr",
     "output_type": "stream",
     "text": [
      "/var/folders/ry/l6smby5j2k72d6m4s9n7bc5w0000gn/T/ipykernel_27750/1700553196.py:1: UserWarning: Boolean Series key will be reindexed to match DataFrame index.\n",
      "  temp_day = df[filter][df['hour_int']>=6]\n",
      "/var/folders/ry/l6smby5j2k72d6m4s9n7bc5w0000gn/T/ipykernel_27750/1700553196.py:2: UserWarning: Boolean Series key will be reindexed to match DataFrame index.\n",
      "  day = temp_day[df['hour_int']<20]\n",
      "/var/folders/ry/l6smby5j2k72d6m4s9n7bc5w0000gn/T/ipykernel_27750/1700553196.py:3: UserWarning: Boolean Series key will be reindexed to match DataFrame index.\n",
      "  temp_night = df[filter][df['hour_int']<6]\n"
     ]
    },
    {
     "data": {
      "image/png": "[encoded data removed]",
      "text/plain": [
       "<Figure size 432x288 with 1 Axes>"
      ]
     },
     "metadata": {},
     "output_type": "display_data"
    }
   ],
   "source": [
    "temp_day = df[filter][df['hour_int']>=6]\n",
    "day = temp_day[df['hour_int']<20]\n",
    "temp_night = df[filter][df['hour_int']<6]\n",
    "temp_night2 = df[df['hour_int']>=20]\n",
    "\n",
    "plt.pie(x=[len(day), len(temp_night) + len(temp_night2)], autopct = '%1.1f%%',)\n",
    "plt.legend(['Flights during the Day', 'Flights at Night'])\n",
    "plt.title('Time of Day for Russian Flights')\n",
    "plt.show()"
   ]
  },
  {
   "cell_type": "markdown",
   "id": "59657f66",
   "metadata": {},
   "source": [
    "Because we predict there will be a relationship between the time of the airstrike, we want to use a pie chart to gain an initial impression on what time of day has a higher frequency of airstrikes. In Ukraine now, the sun sets at around 8pm and rises at around 6am, so from 06:00 to 19:59, we will consider day, and 20:00 to 05:59, we consider night. \n",
    "\n",
    "Based on this pie chart, we can easily see that there is a higher frequency of Russian flights at night, giving a good indication that there will be a relationship between time of day and frequency of flight through the Ukrainian air space. \n"
   ]
  },
  {
   "cell_type": "code",
   "execution_count": 7,
   "id": "6e66e003",
   "metadata": {
    "scrolled": false
   },
   "outputs": [
    {
     "data": {
      "image/png": "[encoded data removed]",
      "text/plain": [
       "<Figure size 432x288 with 1 Axes>"
      ]
     },
     "metadata": {
      "needs_background": "light"
     },
     "output_type": "display_data"
    }
   ],
   "source": [
    "plt.scatter(df[filter]['velocity'],df[filter]['barometic altitude'],) \n",
    "\n",
    "plt.title('Velocity vs Barometic Altitude ')\n",
    "plt.xlabel('velocity (m/s)')\n",
    "plt.ylabel('barometic altitude (m)')\n",
    "plt.xlim(0,500)\n",
    "\n",
    "plt.show()\n"
   ]
  },
  {
   "cell_type": "markdown",
   "id": "8481c217",
   "metadata": {},
   "source": [
    "Based on the average cruising height of an aircraft, at 33 000 ft ~ 10 000 m, we want to consider the barometric altitude when determining if a certain flight can be considered an air strike, so we decided to visualize this data to determine if this is a sufficient factor in the flights that cross Ukrainian airspace. We also found that at lower altitudes, a plane is unable to travel as fast because of all the obstruction lower to the ground, so we want to visualize this relationship with a scatterplot.\n",
    "\n",
    "We had to limit the x-axis to 500 m/s to get a good view of the more reasonable speeds, excluding the outliers of much higher velocities. By looking at the scatterplot, we can see that the flights under cruising altitude tend to be much slower, between 0 and 300 m/s, showing that they are both within range of the ground and can achieve higher accuracy if they are carrying out airstrikes. \n"
   ]
  },
  {
   "cell_type": "markdown",
   "id": "a746f49c",
   "metadata": {},
   "source": [
    "### __Machine Learning__\n"
   ]
  },
  {
   "cell_type": "code",
   "execution_count": 8,
   "id": "703ae140",
   "metadata": {},
   "outputs": [
    {
     "name": "stderr",
     "output_type": "stream",
     "text": [
      "/var/folders/ry/l6smby5j2k72d6m4s9n7bc5w0000gn/T/ipykernel_27750/1623148424.py:5: UserWarning: Boolean Series key will be reindexed to match DataFrame index.\n",
      "  features = df[filter][['hour_int', 'barometic altitude']]\n",
      "/var/folders/ry/l6smby5j2k72d6m4s9n7bc5w0000gn/T/ipykernel_27750/1623148424.py:6: UserWarning: Boolean Series key will be reindexed to match DataFrame index.\n",
      "  target = df[filter]['hour_int']\n"
     ]
    },
    {
     "name": "stdout",
     "output_type": "stream",
     "text": [
      "Test Accuracy: 0.10609204757055261\n",
      "Training Accuracy:  0.10437351965244134\n"
     ]
    },
    {
     "name": "stderr",
     "output_type": "stream",
     "text": [
      "/Users/tylerdale/opt/anaconda3/lib/python3.9/site-packages/sklearn/linear_model/_logistic.py:763: ConvergenceWarning: lbfgs failed to converge (status=1):\n",
      "STOP: TOTAL NO. of ITERATIONS REACHED LIMIT.\n",
      "\n",
      "Increase the number of iterations (max_iter) or scale the data as shown in:\n",
      "    https://scikit-learn.org/stable/modules/preprocessing.html\n",
      "Please also refer to the documentation for alternative solver options:\n",
      "    https://scikit-learn.org/stable/modules/linear_model.html#logistic-regression\n",
      "  n_iter_i = _check_optimize_result(\n"
     ]
    }
   ],
   "source": [
    "section_1_data = df[filter].copy()\n",
    "section_1_data.head()\n",
    "df.dropna(inplace=True)\n",
    "\n",
    "features = df[filter][['hour_int', 'barometic altitude']]\n",
    "target = df[filter]['hour_int']\n",
    "\n",
    "#train test split the data with 30% being used for testing\n",
    "x_train, x_test, y_train, y_test = train_test_split(features, target, test_size = 0.3, random_state=42)\n",
    "accuracy_list = []\n",
    "\n",
    "#Create a logistic regression model\n",
    "logistic = LogisticRegression()\n",
    "\n",
    "#Fit the model using the train data\n",
    "logistic.fit(x_train, y_train)\n",
    "\n",
    "#Store the predictions for the training and test set\n",
    "pred_train = logistic.predict(x_train)\n",
    "pred_test = logistic.predict(x_test)\n",
    "\n",
    "# Print the test and training accuracy\n",
    "print(\"Test Accuracy:\" , accuracy_score(y_test, pred_test))\n",
    "print(\"Training Accuracy: \", accuracy_score(y_train, pred_train))\n",
    "\n",
    "accuracy_list.append(accuracy_score(y_test, pred_test))\n"
   ]
  },
  {
   "cell_type": "markdown",
   "id": "1715e27b",
   "metadata": {},
   "source": [
    "#### Analysis \n",
    "\n",
    "Based on the output, we choosed to pick the time and altitude of the russian federation plane in the air. First, \n",
    "we were going to pick two variables, which was time vs altitude but we needed to filter out other planes from other countries besides Russia. To do this we filtered out other planes. Then the predictor went to 0.106, which is low. Meaning not that accurate. We assume this because our data is huge and scattered which can lead to uncertainities. "
   ]
  },
  {
   "cell_type": "markdown",
   "id": "f8f42e5b",
   "metadata": {},
   "source": [
    "### __Classification Model__\n"
   ]
  },
  {
   "cell_type": "code",
   "execution_count": 9,
   "id": "68142b52",
   "metadata": {
    "scrolled": true
   },
   "outputs": [
    {
     "name": "stderr",
     "output_type": "stream",
     "text": [
      "/var/folders/ry/l6smby5j2k72d6m4s9n7bc5w0000gn/T/ipykernel_27750/329414426.py:1: UserWarning: Boolean Series key will be reindexed to match DataFrame index.\n",
      "  X = df[filter][['barometic altitude', 'velocity']]\n",
      "/var/folders/ry/l6smby5j2k72d6m4s9n7bc5w0000gn/T/ipykernel_27750/329414426.py:2: UserWarning: Boolean Series key will be reindexed to match DataFrame index.\n",
      "  Y = df[filter]['time']\n"
     ]
    }
   ],
   "source": [
    "X = df[filter][['barometic altitude', 'velocity']]\n",
    "Y = df[filter]['time']\n",
    "X_tr, X_te, Y_tr, Y_te = train_test_split(X,Y,test_size = 0.5, random_state = 42)"
   ]
  },
  {
   "cell_type": "code",
   "execution_count": 10,
   "id": "89c6839c",
   "metadata": {},
   "outputs": [
    {
     "name": "stdout",
     "output_type": "stream",
     "text": [
      "Train Accuracy:  0.2601799369530369\n",
      "Test Accuracy:  0.08404727755236656\n"
     ]
    }
   ],
   "source": [
    "knn = KNeighborsClassifier()\n",
    "knn.fit(X_tr, Y_tr)\n",
    "knn_pred_train = knn.predict(X_tr)\n",
    "knn_pred_test = knn.predict(X_te)\n",
    "\n",
    "print(\"Train Accuracy: \", accuracy_score(Y_tr, knn_pred_train))\n",
    "print(\"Test Accuracy: \", accuracy_score(Y_te, knn_pred_test))\n"
   ]
  },
  {
   "cell_type": "code",
   "execution_count": null,
   "id": "cf7ecca4",
   "metadata": {},
   "outputs": [],
   "source": [
    "from sklearn.metrics import plot_confusion_matrix\n",
    "\n",
    "plot_confusion_matrix(knn, X_te, Y_te, normalize='true')\n",
    "\n"
   ]
  },
  {
   "cell_type": "markdown",
   "id": "edec028d",
   "metadata": {},
   "source": [
    "### __Conclusion__\n"
   ]
  },
  {
   "cell_type": "markdown",
   "id": "c8aa792a",
   "metadata": {},
   "source": [
    "Based on our low train accuracy and test accuracy scores for both the logistic and classification models, we can come to the conclusion that we can't predict the time an aircraft flies from the velocity and altitude. This is likely because we tried to assume that the velocity and altitude can be used to predict whether or not the airplane is a fighter plane, even if it is exclusively Russian flights. Then based on this assumption, we attempted to predict the time and this didn't work, even though we could observe some pattern from our data visualizations.\n",
    "\n",
    "To improve our model, we would have to obtain more information about the flights, maybe the plane type or further information about the flight path. Also because of the size of our dataset, we ran into a lot of issues relating to the capacity of Jupyter Notebook, so with a smaller but equally as accurate, so that we could do more precise models."
   ]
  },
  {
   "cell_type": "code",
   "execution_count": null,
   "id": "2ee8847c",
   "metadata": {},
   "outputs": [],
   "source": []
  }
 ],
 "metadata": {
  "kernelspec": {
   "display_name": "Python 3 (ipykernel)",
   "language": "python",
   "name": "python3"
  },
  "language_info": {
   "codemirror_mode": {
    "name": "ipython",
    "version": 3
   },
   "file_extension": ".py",
   "mimetype": "text/x-python",
   "name": "python",
   "nbconvert_exporter": "python",
   "pygments_lexer": "ipython3",
   "version": "3.9.7"
  }
 },
 "nbformat": 4,
 "nbformat_minor": 5
}
